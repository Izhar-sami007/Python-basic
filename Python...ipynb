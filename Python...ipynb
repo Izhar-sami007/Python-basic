{
 "cells": [
  {
   "cell_type": "code",
   "execution_count": 1,
   "id": "29120199",
   "metadata": {},
   "outputs": [
    {
     "name": "stdout",
     "output_type": "stream",
     "text": [
      "orange\n",
      "banana\n",
      "cherry\n"
     ]
    }
   ],
   "source": [
    "x,y,z=\"orange\",\"banana\",\"cherry\"\n",
    "print(x)\n",
    "print(y)\n",
    "print(z)"
   ]
  },
  {
   "cell_type": "code",
   "execution_count": 2,
   "id": "e27a4408",
   "metadata": {},
   "outputs": [
    {
     "name": "stdout",
     "output_type": "stream",
     "text": [
      "Orange\n",
      "Orange\n",
      "Orange\n"
     ]
    }
   ],
   "source": [
    "x=y=z=\"Orange\"\n",
    "print(x)\n",
    "print(y)\n",
    "print(z)"
   ]
  },
  {
   "cell_type": "code",
   "execution_count": 3,
   "id": "18f126f6",
   "metadata": {},
   "outputs": [
    {
     "name": "stdout",
     "output_type": "stream",
     "text": [
      "Python is awesome\n"
     ]
    }
   ],
   "source": [
    "x=\"awesome\"\n",
    "def myfunc():\n",
    "    print(\"Python is \"+x)\n",
    "myfunc()"
   ]
  },
  {
   "cell_type": "code",
   "execution_count": 4,
   "id": "b4eba31d",
   "metadata": {},
   "outputs": [
    {
     "name": "stdout",
     "output_type": "stream",
     "text": [
      "Python is Fantastic\n",
      "Python is awesome\n"
     ]
    }
   ],
   "source": [
    "x=\"awesome\"\n",
    "def myfunc():\n",
    "    x='Fantastic'\n",
    "    print(\"Python is \"+ x)\n",
    "myfunc()\n",
    "\n",
    "print(\"Python is \"+x)"
   ]
  },
  {
   "cell_type": "code",
   "execution_count": 5,
   "id": "61d13937",
   "metadata": {},
   "outputs": [
    {
     "name": "stdout",
     "output_type": "stream",
     "text": [
      "Python is fantastic\n"
     ]
    }
   ],
   "source": [
    "# The gloabal keyword\n",
    "def myfunc():\n",
    "    global x\n",
    "    x=\"fantastic\"\n",
    "    \n",
    "myfunc()\n",
    "print(\"Python is \"+ x)"
   ]
  },
  {
   "cell_type": "code",
   "execution_count": 6,
   "id": "458efa6e",
   "metadata": {},
   "outputs": [
    {
     "name": "stdout",
     "output_type": "stream",
     "text": [
      "Python is fantastic\n"
     ]
    }
   ],
   "source": [
    "x=\"awesome\"\n",
    "def myfunc():\n",
    "    global x\n",
    "    x=\"fantastic\"\n",
    "    \n",
    "myfunc()\n",
    "\n",
    "print(\"Python is \"+x)"
   ]
  },
  {
   "cell_type": "markdown",
   "id": "4527c6be",
   "metadata": {},
   "source": [
    "# BUILT IN DATA TYPES\n",
    "- Text type -str\n",
    "- Numeric Types- int,float,complex\n",
    "- sequence types- list,tuple,range\n",
    "- mapping type- dict\n",
    "- set types- set ,frozenset\n",
    "- boolean type- bool\n",
    "- binary types- bytes,bytearray, memoryview\n",
    "- None type- Nonetype"
   ]
  },
  {
   "cell_type": "code",
   "execution_count": 7,
   "id": "1a57e4e4",
   "metadata": {},
   "outputs": [
    {
     "name": "stdout",
     "output_type": "stream",
     "text": [
      "<class 'int'>\n"
     ]
    }
   ],
   "source": [
    "# getting the datatype\n",
    "x=5\n",
    "print(type(x))"
   ]
  },
  {
   "cell_type": "code",
   "execution_count": 8,
   "id": "98d6b934",
   "metadata": {},
   "outputs": [
    {
     "name": "stdout",
     "output_type": "stream",
     "text": [
      "<class 'str'>\n"
     ]
    }
   ],
   "source": [
    "x=\"hello world\"\n",
    "print(type(x))"
   ]
  },
  {
   "cell_type": "code",
   "execution_count": 9,
   "id": "dc8783d5",
   "metadata": {},
   "outputs": [
    {
     "name": "stdout",
     "output_type": "stream",
     "text": [
      "<class 'float'>\n"
     ]
    }
   ],
   "source": [
    "x=5.2\n",
    "print(type(x))"
   ]
  },
  {
   "cell_type": "code",
   "execution_count": 10,
   "id": "e0597040",
   "metadata": {},
   "outputs": [
    {
     "name": "stdout",
     "output_type": "stream",
     "text": [
      "<class 'list'>\n"
     ]
    }
   ],
   "source": [
    "x=[\"nse\",\"bse\",\"mcx\"]\n",
    "print(type(x))"
   ]
  },
  {
   "cell_type": "code",
   "execution_count": 11,
   "id": "dd4537ad",
   "metadata": {},
   "outputs": [
    {
     "name": "stdout",
     "output_type": "stream",
     "text": [
      "<class 'tuple'>\n"
     ]
    }
   ],
   "source": [
    "x=(\"nse\",\"bse\",\"mcx\")\n",
    "print(type(x))"
   ]
  },
  {
   "cell_type": "code",
   "execution_count": 12,
   "id": "fa778357",
   "metadata": {},
   "outputs": [
    {
     "name": "stdout",
     "output_type": "stream",
     "text": [
      "range(0, 10)\n"
     ]
    }
   ],
   "source": [
    "x=range(10)\n",
    "print(x)"
   ]
  },
  {
   "cell_type": "code",
   "execution_count": 13,
   "id": "672dfe4f",
   "metadata": {},
   "outputs": [
    {
     "name": "stdout",
     "output_type": "stream",
     "text": [
      "<class 'dict'>\n"
     ]
    }
   ],
   "source": [
    "x={\"a\":5,\"b\":6}\n",
    "print(type(x))"
   ]
  },
  {
   "cell_type": "code",
   "execution_count": 14,
   "id": "eabb2e59",
   "metadata": {},
   "outputs": [
    {
     "name": "stdout",
     "output_type": "stream",
     "text": [
      "{'a': 5, 'b': 6}\n"
     ]
    }
   ],
   "source": [
    "print(x)"
   ]
  },
  {
   "cell_type": "code",
   "execution_count": 15,
   "id": "23622d7d",
   "metadata": {},
   "outputs": [
    {
     "name": "stdout",
     "output_type": "stream",
     "text": [
      "<class 'frozenset'>\n"
     ]
    }
   ],
   "source": [
    "x=frozenset({\"bse\",\"nse\",\"mcx\"})\n",
    "print(type(x))"
   ]
  },
  {
   "cell_type": "code",
   "execution_count": 17,
   "id": "04a40571",
   "metadata": {},
   "outputs": [
    {
     "data": {
      "text/plain": [
       "'Hello Izhaar'"
      ]
     },
     "execution_count": 17,
     "metadata": {},
     "output_type": "execute_result"
    }
   ],
   "source": [
    "# Setting the specific data type\n",
    "x=str(\"Hello Izhaar\")\n",
    "x"
   ]
  },
  {
   "cell_type": "code",
   "execution_count": 19,
   "id": "6697bc6c",
   "metadata": {},
   "outputs": [],
   "source": [
    "x=1\n",
    "y=2.8\n",
    "z=1j\n",
    "a=float(x)\n",
    "b=int(y)\n",
    "c=complex(x)"
   ]
  },
  {
   "cell_type": "code",
   "execution_count": 20,
   "id": "640b54ec",
   "metadata": {},
   "outputs": [
    {
     "name": "stdout",
     "output_type": "stream",
     "text": [
      "1.0\n",
      "2\n",
      "(1+0j)\n"
     ]
    }
   ],
   "source": [
    "print(a)\n",
    "print(b)\n",
    "print(c)"
   ]
  },
  {
   "cell_type": "code",
   "execution_count": 21,
   "id": "fd6246c2",
   "metadata": {},
   "outputs": [
    {
     "name": "stdout",
     "output_type": "stream",
     "text": [
      "<class 'float'>\n",
      "<class 'int'>\n",
      "<class 'complex'>\n"
     ]
    }
   ],
   "source": [
    "print(type(a))\n",
    "print(type(b))\n",
    "print(type(c))"
   ]
  },
  {
   "cell_type": "code",
   "execution_count": 26,
   "id": "fb3d38ad",
   "metadata": {},
   "outputs": [
    {
     "name": "stdout",
     "output_type": "stream",
     "text": [
      "7\n",
      "2\n",
      "4\n"
     ]
    }
   ],
   "source": [
    "# Random number\n",
    "import random \n",
    "print(random.randrange(1,10))\n",
    "print(random.randrange(1,10))\n",
    "print(random.randrange(1,10))"
   ]
  },
  {
   "cell_type": "code",
   "execution_count": 36,
   "id": "45103dd3",
   "metadata": {},
   "outputs": [],
   "source": [
    "#Python casting\n",
    "## Specify a variable type\n",
    "x=int(1)\n",
    "y=int(2.5)\n",
    "z=int(\"3\")"
   ]
  },
  {
   "cell_type": "code",
   "execution_count": 37,
   "id": "5f5a27da",
   "metadata": {},
   "outputs": [
    {
     "name": "stdout",
     "output_type": "stream",
     "text": [
      "1\n",
      "2\n",
      "3\n"
     ]
    }
   ],
   "source": [
    "print(x)\n",
    "print(y)\n",
    "print(z)"
   ]
  },
  {
   "cell_type": "code",
   "execution_count": 38,
   "id": "7eb47efa",
   "metadata": {},
   "outputs": [],
   "source": [
    "x=float(1)\n",
    "y=float(2.5)\n",
    "z=float(\"3\")\n"
   ]
  },
  {
   "cell_type": "code",
   "execution_count": 39,
   "id": "6154a817",
   "metadata": {},
   "outputs": [
    {
     "name": "stdout",
     "output_type": "stream",
     "text": [
      "1.0\n",
      "2.5\n",
      "3.0\n"
     ]
    }
   ],
   "source": [
    "print(x)\n",
    "print(y)\n",
    "print(z)"
   ]
  },
  {
   "cell_type": "code",
   "execution_count": 40,
   "id": "4d0ecd52",
   "metadata": {},
   "outputs": [],
   "source": [
    "x=str(1)\n",
    "y=str(2.5)\n",
    "z=str(\"3\")"
   ]
  },
  {
   "cell_type": "code",
   "execution_count": 41,
   "id": "f4fe14ce",
   "metadata": {},
   "outputs": [
    {
     "name": "stdout",
     "output_type": "stream",
     "text": [
      "1\n",
      "2.5\n",
      "3\n"
     ]
    }
   ],
   "source": [
    "print(x)\n",
    "print(y)\n",
    "print(z)"
   ]
  },
  {
   "cell_type": "code",
   "execution_count": 43,
   "id": "6de92567",
   "metadata": {},
   "outputs": [
    {
     "name": "stdout",
     "output_type": "stream",
     "text": [
      "e\n"
     ]
    }
   ],
   "source": [
    "# Python strings\n",
    "# Assign strings\n",
    "# Strings are arrays\n",
    "a=\"Hello, world!\"\n",
    "print(a[1])"
   ]
  },
  {
   "cell_type": "code",
   "execution_count": 44,
   "id": "2dd92a9d",
   "metadata": {},
   "outputs": [
    {
     "name": "stdout",
     "output_type": "stream",
     "text": [
      "b\n",
      "a\n",
      "n\n",
      "a\n",
      "n\n",
      "a\n"
     ]
    }
   ],
   "source": [
    "# Looping through a string\n",
    "for x in \"banana\":\n",
    "    print(x)"
   ]
  },
  {
   "cell_type": "code",
   "execution_count": 45,
   "id": "e9e47796",
   "metadata": {},
   "outputs": [
    {
     "name": "stdout",
     "output_type": "stream",
     "text": [
      "A\n",
      "L\n",
      "i\n",
      "c\n",
      "e\n",
      " \n",
      "b\n",
      "l\n",
      "u\n",
      "e\n"
     ]
    }
   ],
   "source": [
    "for x in \"ALice blue\":\n",
    "    \n",
    "    print(x)"
   ]
  },
  {
   "cell_type": "code",
   "execution_count": 46,
   "id": "7ed9dd53",
   "metadata": {},
   "outputs": [
    {
     "name": "stdout",
     "output_type": "stream",
     "text": [
      "10\n"
     ]
    }
   ],
   "source": [
    "# String length\n",
    "a=\"Alice Blue\"\n",
    "print(len(a))"
   ]
  },
  {
   "cell_type": "code",
   "execution_count": 47,
   "id": "4ebba14d",
   "metadata": {},
   "outputs": [
    {
     "name": "stdout",
     "output_type": "stream",
     "text": [
      "True\n"
     ]
    }
   ],
   "source": [
    "# Check string\n",
    "txt= \"Alice blue is the best brokerage company!\"\n",
    "print(\"best\" in txt)"
   ]
  },
  {
   "cell_type": "code",
   "execution_count": 54,
   "id": "2aca23e6",
   "metadata": {},
   "outputs": [
    {
     "name": "stdout",
     "output_type": "stream",
     "text": [
      "Yes,'best' is present.\n"
     ]
    }
   ],
   "source": [
    "# Use it in an if statement\n",
    "txt=\"Alice blue is the best brokerage company!\"\n",
    "if \"best\" in txt:\n",
    "    print(\"Yes,'best' is present.\")"
   ]
  },
  {
   "cell_type": "code",
   "execution_count": 51,
   "id": "0ef85a12",
   "metadata": {},
   "outputs": [
    {
     "name": "stdout",
     "output_type": "stream",
     "text": [
      "True\n"
     ]
    }
   ],
   "source": [
    "# cECK IF NOT\n",
    "TXT=\"Alice blue is best brokerage firm\"\n",
    "print(\"good\" not in txt)"
   ]
  },
  {
   "cell_type": "code",
   "execution_count": null,
   "id": "f97fdd42",
   "metadata": {},
   "outputs": [],
   "source": [
    "# Use it in an if statement\n"
   ]
  },
  {
   "cell_type": "code",
   "execution_count": 53,
   "id": "0dc311ea",
   "metadata": {},
   "outputs": [
    {
     "name": "stdout",
     "output_type": "stream",
     "text": [
      "No, 'good' is NOT present.\n"
     ]
    }
   ],
   "source": [
    "txt=\"Alice blue is the best brokerage firm\"\n",
    "if 'good' not in txt:\n",
    "    print(\"No, 'good' is NOT present.\")"
   ]
  },
  {
   "cell_type": "code",
   "execution_count": 55,
   "id": "fc234113",
   "metadata": {},
   "outputs": [
    {
     "name": "stdout",
     "output_type": "stream",
     "text": [
      "ice \n"
     ]
    }
   ],
   "source": [
    "# Slicing strings\n",
    "b='Alice Blue'\n",
    "print(b[2:6])"
   ]
  },
  {
   "cell_type": "code",
   "execution_count": 59,
   "id": "cff120ab",
   "metadata": {},
   "outputs": [
    {
     "name": "stdout",
     "output_type": "stream",
     "text": [
      "Alice Blu\n"
     ]
    }
   ],
   "source": [
    "# Slice from the start\n",
    "print(b[:9])"
   ]
  },
  {
   "cell_type": "code",
   "execution_count": 64,
   "id": "05bbfc8f",
   "metadata": {},
   "outputs": [
    {
     "name": "stdout",
     "output_type": "stream",
     "text": [
      "Aeu\n"
     ]
    }
   ],
   "source": [
    "print(b[::4])"
   ]
  },
  {
   "cell_type": "code",
   "execution_count": 58,
   "id": "d82ddae7",
   "metadata": {},
   "outputs": [
    {
     "name": "stdout",
     "output_type": "stream",
     "text": [
      "ice Blue\n"
     ]
    }
   ],
   "source": [
    "print(b[2::])"
   ]
  },
  {
   "cell_type": "code",
   "execution_count": 61,
   "id": "7cc8270c",
   "metadata": {},
   "outputs": [
    {
     "name": "stdout",
     "output_type": "stream",
     "text": [
      "ice Blue\n"
     ]
    }
   ],
   "source": [
    "# slice to the end\n",
    "print(b[2:])"
   ]
  },
  {
   "cell_type": "code",
   "execution_count": 62,
   "id": "c475e2eb",
   "metadata": {},
   "outputs": [
    {
     "name": "stdout",
     "output_type": "stream",
     "text": [
      " Bl\n"
     ]
    }
   ],
   "source": [
    "# Negative indexing\n",
    "a=\"Alice Blue\"\n",
    "print(a[-5:-2])"
   ]
  },
  {
   "cell_type": "code",
   "execution_count": 65,
   "id": "636aea9c",
   "metadata": {},
   "outputs": [
    {
     "name": "stdout",
     "output_type": "stream",
     "text": [
      "ALICE BLUE\n"
     ]
    }
   ],
   "source": [
    "# Modify strings\n",
    "# UPPER CASE\n",
    "a=\"Alice Blue\"\n",
    "print(a.upper())"
   ]
  },
  {
   "cell_type": "code",
   "execution_count": 66,
   "id": "616318b8",
   "metadata": {},
   "outputs": [
    {
     "name": "stdout",
     "output_type": "stream",
     "text": [
      "alice blue\n"
     ]
    }
   ],
   "source": [
    "# Lower case\n",
    "print(a.lower())"
   ]
  },
  {
   "cell_type": "code",
   "execution_count": 68,
   "id": "a0042cc3",
   "metadata": {},
   "outputs": [
    {
     "name": "stdout",
     "output_type": "stream",
     "text": [
      "Alice blue\n"
     ]
    }
   ],
   "source": [
    "# Remove white spaces\n",
    "a=\"  Alice blue  \"\n",
    "print(a.strip())"
   ]
  },
  {
   "cell_type": "code",
   "execution_count": 71,
   "id": "56ae75cc",
   "metadata": {},
   "outputs": [
    {
     "name": "stdout",
     "output_type": "stream",
     "text": [
      "  Slice blue  \n"
     ]
    }
   ],
   "source": [
    "# Replace strings\n",
    "print(a.replace(\"A\",\"S\"))"
   ]
  },
  {
   "cell_type": "code",
   "execution_count": 73,
   "id": "a47820a8",
   "metadata": {},
   "outputs": [
    {
     "name": "stdout",
     "output_type": "stream",
     "text": [
      "['Alice', ' Blue', ' is', 'best', 'firm']\n"
     ]
    }
   ],
   "source": [
    "# Split string\n",
    "a=\"Alice, Blue, is,best,firm\"\n",
    "print(a.split(\",\"))"
   ]
  },
  {
   "cell_type": "code",
   "execution_count": 75,
   "id": "0fb9bbe4",
   "metadata": {},
   "outputs": [
    {
     "name": "stdout",
     "output_type": "stream",
     "text": [
      "HelloIndia\n"
     ]
    }
   ],
   "source": [
    "# String concatenation\n",
    "a=\"Hello\"\n",
    "b=\"India\"\n",
    "c=a+ b\n",
    "print(c)"
   ]
  },
  {
   "cell_type": "code",
   "execution_count": 77,
   "id": "640a17a3",
   "metadata": {},
   "outputs": [
    {
     "name": "stdout",
     "output_type": "stream",
     "text": [
      "Hello India\n"
     ]
    }
   ],
   "source": [
    "# To add space between them ,add a \" \":\n",
    "a=\"Hello\"\n",
    "b=\"India\"\n",
    "c=a+\" \"+b\n",
    "print(c)"
   ]
  },
  {
   "cell_type": "code",
   "execution_count": 78,
   "id": "ba1968e9",
   "metadata": {},
   "outputs": [
    {
     "ename": "TypeError",
     "evalue": "can only concatenate str (not \"int\") to str",
     "output_type": "error",
     "traceback": [
      "\u001b[1;31m---------------------------------------------------------------------------\u001b[0m",
      "\u001b[1;31mTypeError\u001b[0m                                 Traceback (most recent call last)",
      "Input \u001b[1;32mIn [78]\u001b[0m, in \u001b[0;36m<cell line: 3>\u001b[1;34m()\u001b[0m\n\u001b[0;32m      1\u001b[0m \u001b[38;5;66;03m# string format\u001b[39;00m\n\u001b[0;32m      2\u001b[0m age\u001b[38;5;241m=\u001b[39m\u001b[38;5;241m80\u001b[39m\n\u001b[1;32m----> 3\u001b[0m txt\u001b[38;5;241m=\u001b[39m\u001b[38;5;124;43m\"\u001b[39;49m\u001b[38;5;124;43mMy name is mike, I am \u001b[39;49m\u001b[38;5;124;43m\"\u001b[39;49m\u001b[43m \u001b[49m\u001b[38;5;241;43m+\u001b[39;49m\u001b[43m \u001b[49m\u001b[43mage\u001b[49m\n\u001b[0;32m      4\u001b[0m \u001b[38;5;28mprint\u001b[39m(txt)\n",
      "\u001b[1;31mTypeError\u001b[0m: can only concatenate str (not \"int\") to str"
     ]
    }
   ],
   "source": [
    "# string format\n",
    "age=80\n",
    "txt=\"My name is mike, I am \" + age\n",
    "print(txt)"
   ]
  },
  {
   "cell_type": "code",
   "execution_count": 80,
   "id": "afbc5c81",
   "metadata": {},
   "outputs": [
    {
     "name": "stdout",
     "output_type": "stream",
     "text": [
      "My name is john,i am 65\n"
     ]
    }
   ],
   "source": [
    "# But with format we can add\n",
    "# The format() method takes the passed arguments, formats them, and places them in the string where the placeholders {} are:\n",
    "age=65\n",
    "txt=\"My name is john,i am {}\"\n",
    "print(txt.format(age))"
   ]
  },
  {
   "cell_type": "code",
   "execution_count": 82,
   "id": "acdf85be",
   "metadata": {},
   "outputs": [
    {
     "name": "stdout",
     "output_type": "stream",
     "text": [
      " I want 9 pieces of item 547 for 45 dollars.\n"
     ]
    }
   ],
   "source": [
    "quantity =9\n",
    "itemno=547\n",
    "price=45\n",
    "myorder=\" I want {} pieces of item {} for {} dollars.\"\n",
    "print(myorder.format(quantity,itemno,price))"
   ]
  },
  {
   "cell_type": "code",
   "execution_count": 84,
   "id": "ea25e184",
   "metadata": {},
   "outputs": [
    {
     "ename": "SyntaxError",
     "evalue": "invalid syntax (527929071.py, line 2)",
     "output_type": "error",
     "traceback": [
      "\u001b[1;36m  Input \u001b[1;32mIn [84]\u001b[1;36m\u001b[0m\n\u001b[1;33m    txt=\"we are the  so-called \"spartans\" from the west.\"\u001b[0m\n\u001b[1;37m                                ^\u001b[0m\n\u001b[1;31mSyntaxError\u001b[0m\u001b[1;31m:\u001b[0m invalid syntax\n"
     ]
    }
   ],
   "source": [
    "# Excape charater\n",
    "txt=\"we are the  so-called \"spartans\" from the west.\""
   ]
  },
  {
   "cell_type": "code",
   "execution_count": 87,
   "id": "5cb7b0fc",
   "metadata": {},
   "outputs": [],
   "source": [
    "txt=\"we are the so-called \\'spartans\\' from the north. \""
   ]
  },
  {
   "cell_type": "code",
   "execution_count": 88,
   "id": "a5a69844",
   "metadata": {},
   "outputs": [
    {
     "name": "stdout",
     "output_type": "stream",
     "text": [
      "we are the so-called 'spartans' from the north. \n"
     ]
    }
   ],
   "source": [
    "print(txt)"
   ]
  },
  {
   "cell_type": "code",
   "execution_count": 89,
   "id": "9d77c8a4",
   "metadata": {},
   "outputs": [
    {
     "name": "stdout",
     "output_type": "stream",
     "text": [
      "True\n",
      "False\n",
      "False\n"
     ]
    }
   ],
   "source": [
    "# Boolean values\n",
    "print(10>9)\n",
    "print(10==9)\n",
    "print(10<9)\n"
   ]
  },
  {
   "cell_type": "code",
   "execution_count": 90,
   "id": "03b873e6",
   "metadata": {},
   "outputs": [
    {
     "name": "stdout",
     "output_type": "stream",
     "text": [
      "b is not greater than a\n"
     ]
    }
   ],
   "source": [
    "a=87\n",
    "b=76\n",
    "if b>a:\n",
    "    print(\"b is greater than a\")\n",
    "else:\n",
    "    print(\"b is not greater than a\")"
   ]
  },
  {
   "cell_type": "code",
   "execution_count": 92,
   "id": "d7d48674",
   "metadata": {},
   "outputs": [
    {
     "name": "stdout",
     "output_type": "stream",
     "text": [
      "True\n",
      "True\n"
     ]
    }
   ],
   "source": [
    "# Evaluate values and variable\n",
    "#The bool() function allows you to evaluate any value, and give you True or False in return,\n",
    "print(bool(\"Hello\"))\n",
    "print(bool(15))"
   ]
  },
  {
   "cell_type": "code",
   "execution_count": 95,
   "id": "fbc4fa52",
   "metadata": {},
   "outputs": [
    {
     "name": "stdout",
     "output_type": "stream",
     "text": [
      "True\n",
      "True\n"
     ]
    }
   ],
   "source": [
    "# Evaluate two variables\n",
    "x=\"Hello\"\n",
    "y=15\n",
    "\n",
    "print(bool(x))\n",
    "print(bool(y))"
   ]
  },
  {
   "cell_type": "markdown",
   "id": "236830c1",
   "metadata": {},
   "source": [
    "## Most Values are True\n",
    "- Almost any value is evaluated to True if it has some sort of content.\n",
    "\n",
    "- Any string is True, except empty strings.\n",
    "\n",
    "- Any number is True, except 0.\n",
    "\n",
    "- Any list, tuple, set, and dictionary are True, except empty ones.\n"
   ]
  },
  {
   "cell_type": "code",
   "execution_count": 96,
   "id": "f1765aee",
   "metadata": {},
   "outputs": [
    {
     "data": {
      "text/plain": [
       "True"
      ]
     },
     "execution_count": 96,
     "metadata": {},
     "output_type": "execute_result"
    }
   ],
   "source": [
    "bool(\"abc\")\n",
    "bool(123)\n",
    "bool([\"apple\",\"cherry\",\"banana\"])"
   ]
  },
  {
   "cell_type": "markdown",
   "id": "34f1b5ac",
   "metadata": {},
   "source": [
    "# Some Values are False\n",
    "-  In fact, there are not many values that evaluate to False, except empty values, such as (), [], {}, \"\", the number 0, and the value None. And of course the value False evaluates to False."
   ]
  },
  {
   "cell_type": "code",
   "execution_count": 98,
   "id": "059137d7",
   "metadata": {},
   "outputs": [
    {
     "data": {
      "text/plain": [
       "False"
      ]
     },
     "execution_count": 98,
     "metadata": {},
     "output_type": "execute_result"
    }
   ],
   "source": [
    "bool(False)\n",
    "bool(None)\n",
    "bool(0)\n",
    "bool(\"\")\n",
    "bool(())\n",
    "bool([])\n",
    "bool({})"
   ]
  },
  {
   "cell_type": "code",
   "execution_count": 99,
   "id": "4d035690",
   "metadata": {},
   "outputs": [
    {
     "name": "stdout",
     "output_type": "stream",
     "text": [
      "False\n"
     ]
    }
   ],
   "source": [
    "## One more value, or object in this case, evaluates to False, and that is if you have an object that is made from a class with a __len__ function that returns 0 or False:\n",
    "class myclass():\n",
    "    def __len__(self):\n",
    "        return 0\n",
    "    \n",
    "myobj=myclass()\n",
    "print(bool(myobj))"
   ]
  },
  {
   "cell_type": "code",
   "execution_count": 100,
   "id": "f171315f",
   "metadata": {},
   "outputs": [
    {
     "name": "stdout",
     "output_type": "stream",
     "text": [
      "<function myFunction at 0x0000023C01CC1000>\n"
     ]
    }
   ],
   "source": [
    "# Function can return a boolean\n",
    "def myFunction():\n",
    "    return True\n",
    "print(myFunction)"
   ]
  },
  {
   "cell_type": "code",
   "execution_count": 102,
   "id": "ad561fe7",
   "metadata": {},
   "outputs": [
    {
     "name": "stdout",
     "output_type": "stream",
     "text": [
      "No!\n"
     ]
    }
   ],
   "source": [
    "def myFunction():\n",
    "    return False\n",
    "if myFunction():\n",
    "    print(\"Yes!\")\n",
    "else:\n",
    "    print(\"No!\")"
   ]
  },
  {
   "cell_type": "code",
   "execution_count": 103,
   "id": "58e779fb",
   "metadata": {},
   "outputs": [
    {
     "name": "stdout",
     "output_type": "stream",
     "text": [
      "Yes!\n"
     ]
    }
   ],
   "source": [
    "def myFunction():\n",
    "    return True\n",
    "if myFunction():\n",
    "    print(\"Yes!\")\n",
    "else:\n",
    "    print(\"No!\")"
   ]
  },
  {
   "cell_type": "code",
   "execution_count": 104,
   "id": "829a0c4a",
   "metadata": {},
   "outputs": [
    {
     "name": "stdout",
     "output_type": "stream",
     "text": [
      "True\n"
     ]
    }
   ],
   "source": [
    "# Check if an object is an integer or not;\n",
    "x=200\n",
    "print(isinstance(x,int))"
   ]
  },
  {
   "cell_type": "code",
   "execution_count": 105,
   "id": "3c64f6a3",
   "metadata": {},
   "outputs": [
    {
     "name": "stdout",
     "output_type": "stream",
     "text": [
      "True\n"
     ]
    }
   ],
   "source": [
    "x=20.5\n",
    "print(isinstance(x,float))"
   ]
  },
  {
   "cell_type": "code",
   "execution_count": 106,
   "id": "e2305c5c",
   "metadata": {},
   "outputs": [
    {
     "name": "stdout",
     "output_type": "stream",
     "text": [
      "True\n"
     ]
    }
   ],
   "source": [
    "x=\"Hello\"\n",
    "print(isinstance(x,str))"
   ]
  },
  {
   "cell_type": "code",
   "execution_count": 107,
   "id": "f104f548",
   "metadata": {},
   "outputs": [
    {
     "name": "stdout",
     "output_type": "stream",
     "text": [
      "False\n"
     ]
    }
   ],
   "source": [
    "x=90\n",
    "print(isinstance(x,float))"
   ]
  },
  {
   "cell_type": "code",
   "execution_count": 108,
   "id": "e89c3276",
   "metadata": {},
   "outputs": [],
   "source": [
    "# Python list\n",
    "list=[\"green\",\"blue\",\"orange\"]"
   ]
  },
  {
   "cell_type": "code",
   "execution_count": 109,
   "id": "0b04ff01",
   "metadata": {},
   "outputs": [
    {
     "name": "stdout",
     "output_type": "stream",
     "text": [
      "['green', 'blue', 'orange']\n"
     ]
    }
   ],
   "source": [
    "print(list)"
   ]
  },
  {
   "cell_type": "markdown",
   "id": "7a570c04",
   "metadata": {},
   "source": [
    "# List Items\n",
    "- List items are ordered, changeable, and allow duplicate values.\n",
    "\n",
    "- List items are indexed, the first item has index [0], the second item has index [1] etc."
   ]
  },
  {
   "cell_type": "markdown",
   "id": "f82c51d4",
   "metadata": {},
   "source": [
    "# Ordered\n",
    "- When we say that lists are ordered, it means that the items have a defined order, and that order will not change.\n",
    "\n",
    "- If you add new items to a list, the new items will be placed at the end of the list."
   ]
  },
  {
   "cell_type": "markdown",
   "id": "2b9e0e5d",
   "metadata": {},
   "source": [
    "# Changeable\n",
    "- The list is changeable, meaning that we can change, add, and remove items in a list after it has been created."
   ]
  },
  {
   "cell_type": "markdown",
   "id": "fbbe9419",
   "metadata": {},
   "source": [
    "# Allow Duplicates\n",
    "- Since lists are indexed, lists can have items with the same value:"
   ]
  },
  {
   "cell_type": "code",
   "execution_count": 111,
   "id": "c2e5247b",
   "metadata": {},
   "outputs": [
    {
     "name": "stdout",
     "output_type": "stream",
     "text": [
      "['green', 'blue', 'orange']\n",
      "3\n"
     ]
    }
   ],
   "source": [
    "# List length\n",
    "print(list)\n",
    "print(len(list))"
   ]
  },
  {
   "cell_type": "code",
   "execution_count": 112,
   "id": "fa6bff47",
   "metadata": {},
   "outputs": [],
   "source": [
    "# List items can be of any data types\n",
    "l1=['green','blue','black']\n",
    "l2=['5','6','8']\n",
    "l3=[True,False,False]"
   ]
  },
  {
   "cell_type": "code",
   "execution_count": 113,
   "id": "1d518997",
   "metadata": {},
   "outputs": [],
   "source": [
    "# A list can contain different data types\n",
    "list1=['hello','7',7.3,True]"
   ]
  },
  {
   "cell_type": "code",
   "execution_count": 114,
   "id": "1a1e8422",
   "metadata": {},
   "outputs": [
    {
     "name": "stdout",
     "output_type": "stream",
     "text": [
      "<class 'list'>\n"
     ]
    }
   ],
   "source": [
    "print(type(list1))"
   ]
  },
  {
   "cell_type": "code",
   "execution_count": 115,
   "id": "8d4e1aee",
   "metadata": {},
   "outputs": [],
   "source": [
    "# List constructor\n",
    "# It is also possible to use the list() constructor when creating a new list.\n",
    "# Using the list() constructor to make a list"
   ]
  },
  {
   "cell_type": "code",
   "execution_count": 120,
   "id": "d615e2bf",
   "metadata": {},
   "outputs": [
    {
     "ename": "TypeError",
     "evalue": "'list' object is not callable",
     "output_type": "error",
     "traceback": [
      "\u001b[1;31m---------------------------------------------------------------------------\u001b[0m",
      "\u001b[1;31mTypeError\u001b[0m                                 Traceback (most recent call last)",
      "Input \u001b[1;32mIn [120]\u001b[0m, in \u001b[0;36m<cell line: 1>\u001b[1;34m()\u001b[0m\n\u001b[1;32m----> 1\u001b[0m thislist\u001b[38;5;241m=\u001b[39m \u001b[38;5;28;43mlist\u001b[39;49m\u001b[43m \u001b[49m\u001b[43m(\u001b[49m\u001b[43m(\u001b[49m\u001b[38;5;124;43m\"\u001b[39;49m\u001b[38;5;124;43mjhon\u001b[39;49m\u001b[38;5;124;43m\"\u001b[39;49m\u001b[43m,\u001b[49m\u001b[43m \u001b[49m\u001b[38;5;124;43m\"\u001b[39;49m\u001b[38;5;124;43mbay\u001b[39;49m\u001b[38;5;124;43m\"\u001b[39;49m\u001b[43m,\u001b[49m\u001b[43m \u001b[49m\u001b[38;5;124;43m\"\u001b[39;49m\u001b[38;5;124;43mmike\u001b[39;49m\u001b[38;5;124;43m\"\u001b[39;49m\u001b[43m)\u001b[49m\u001b[43m)\u001b[49m\n\u001b[0;32m      2\u001b[0m \u001b[38;5;28mprint\u001b[39m(thislist)\n",
      "\u001b[1;31mTypeError\u001b[0m: 'list' object is not callable"
     ]
    }
   ],
   "source": [
    "thislist= list ((\"jhon\", \"bay\", \"mike\"))\n",
    "print(thislist)"
   ]
  },
  {
   "cell_type": "markdown",
   "id": "88cbc976",
   "metadata": {},
   "source": [
    "# Python Collections (Arrays)\n",
    "There are four collection data types in the Python programming language:\n",
    "\n",
    "- List is a collection which is ordered and changeable. Allows duplicate members.\n",
    "- Tuple is a collection which is ordered and unchangeable. Allows duplicate members.\n",
    "- Set is a collection which is unordered, unchangeable*, and unindexed. No duplicate members.\n",
    "- Dictionary is a collection which is ordered** and changeable. No duplicate members."
   ]
  },
  {
   "cell_type": "code",
   "execution_count": 123,
   "id": "45338fe8",
   "metadata": {},
   "outputs": [
    {
     "name": "stdout",
     "output_type": "stream",
     "text": [
      "black\n"
     ]
    }
   ],
   "source": [
    "# Acess list items\n",
    "list1=[\"green\",\"blue\",\"black\"]\n",
    "print(list1[2])"
   ]
  },
  {
   "cell_type": "code",
   "execution_count": 125,
   "id": "e4048001",
   "metadata": {},
   "outputs": [
    {
     "name": "stdout",
     "output_type": "stream",
     "text": [
      "black\n"
     ]
    }
   ],
   "source": [
    "# Negative indexing\n",
    "print(list1[-1])"
   ]
  },
  {
   "cell_type": "code",
   "execution_count": 126,
   "id": "5f8d6f97",
   "metadata": {},
   "outputs": [
    {
     "name": "stdout",
     "output_type": "stream",
     "text": [
      "green\n"
     ]
    }
   ],
   "source": [
    "print(list[0])"
   ]
  },
  {
   "cell_type": "code",
   "execution_count": 127,
   "id": "a33e35d6",
   "metadata": {},
   "outputs": [
    {
     "name": "stdout",
     "output_type": "stream",
     "text": [
      "['jupyter', 'saturn', 'mercury']\n"
     ]
    }
   ],
   "source": [
    "# Ranges of indexs\n",
    "list=['mars',\"earth\",\"jupyter\",\"saturn\",\"mercury\"]\n",
    "print(list[2:5])"
   ]
  },
  {
   "cell_type": "code",
   "execution_count": 128,
   "id": "68e5761a",
   "metadata": {},
   "outputs": [
    {
     "name": "stdout",
     "output_type": "stream",
     "text": [
      "['mars', 'earth', 'jupyter', 'saturn']\n"
     ]
    }
   ],
   "source": [
    "print(list[:4])"
   ]
  },
  {
   "cell_type": "code",
   "execution_count": 129,
   "id": "704928bb",
   "metadata": {},
   "outputs": [
    {
     "name": "stdout",
     "output_type": "stream",
     "text": [
      "['jupyter', 'saturn', 'mercury']\n"
     ]
    }
   ],
   "source": [
    "print(list[2:])"
   ]
  },
  {
   "cell_type": "markdown",
   "id": "8a5a133a",
   "metadata": {},
   "source": []
  },
  {
   "cell_type": "code",
   "execution_count": 130,
   "id": "b3b74161",
   "metadata": {},
   "outputs": [
    {
     "name": "stdout",
     "output_type": "stream",
     "text": [
      "['earth', 'jupyter', 'saturn']\n"
     ]
    }
   ],
   "source": [
    "# Range of negative indexes\n",
    "print(list[-4:-1])"
   ]
  },
  {
   "cell_type": "code",
   "execution_count": 133,
   "id": "5ba23b20",
   "metadata": {},
   "outputs": [
    {
     "name": "stdout",
     "output_type": "stream",
     "text": [
      "yes ,'apple' in the list\n"
     ]
    }
   ],
   "source": [
    "# Check if item Exists\n",
    "# To determine if a specified item is present in alist use the in keyword\n",
    "\n",
    "list=['apple',\"samsung\",\"nokia\",\"realme\"]\n",
    "if \"apple\" in list:\n",
    "    print(\"yes ,'apple' in the list\")\n",
    "else:\n",
    "    print('Not, in the list')"
   ]
  },
  {
   "cell_type": "code",
   "execution_count": 134,
   "id": "a3427205",
   "metadata": {},
   "outputs": [
    {
     "name": "stdout",
     "output_type": "stream",
     "text": [
      "Not, in the list\n"
     ]
    }
   ],
   "source": [
    "list=['apple',\"samsung\",\"nokia\",\"realme\"]\n",
    "if \"motorola\" in list:\n",
    "    print(\"yes ,'apple' in the list\")\n",
    "else:\n",
    "    print('Not, in the list')"
   ]
  },
  {
   "cell_type": "code",
   "execution_count": 135,
   "id": "80c43553",
   "metadata": {},
   "outputs": [],
   "source": [
    "# change list items\n",
    "# change item value\n",
    "# To change the value of a specific item,refer to th eindex number"
   ]
  },
  {
   "cell_type": "code",
   "execution_count": 137,
   "id": "3168fc80",
   "metadata": {},
   "outputs": [
    {
     "name": "stdout",
     "output_type": "stream",
     "text": [
      "['apple', 'motorola', 'nokia', 'googlepixel']\n"
     ]
    }
   ],
   "source": [
    "list=[\"apple\",\"motorola\",\"nokia\",\"googlepixel\"]\n",
    "\n",
    "print(list)"
   ]
  },
  {
   "cell_type": "code",
   "execution_count": 138,
   "id": "087b47a3",
   "metadata": {},
   "outputs": [
    {
     "name": "stdout",
     "output_type": "stream",
     "text": [
      "['apple', 'oneplus', 'nokia', 'googlepixel']\n"
     ]
    }
   ],
   "source": [
    "list[1]='oneplus'\n",
    "print(list)"
   ]
  },
  {
   "cell_type": "code",
   "execution_count": 139,
   "id": "f79330c2",
   "metadata": {},
   "outputs": [
    {
     "name": "stdout",
     "output_type": "stream",
     "text": [
      "['apple', 'realme', 'htc', 'googlepixel']\n"
     ]
    }
   ],
   "source": [
    "# Change a range of item values\n",
    "list[1:3]=['realme','htc']\n",
    "print(list)"
   ]
  },
  {
   "cell_type": "code",
   "execution_count": 140,
   "id": "a443aab1",
   "metadata": {},
   "outputs": [
    {
     "name": "stdout",
     "output_type": "stream",
     "text": [
      "['apple', 'realme', 'htc', 'accord', 'googlepixel']\n"
     ]
    }
   ],
   "source": [
    "# Insert items\n",
    "list.insert(3,\"accord\")\n",
    "print(list)"
   ]
  },
  {
   "cell_type": "code",
   "execution_count": 145,
   "id": "21c44eb8",
   "metadata": {},
   "outputs": [
    {
     "name": "stdout",
     "output_type": "stream",
     "text": [
      "['banana', 'cherry', 'orange', 'grapes']\n"
     ]
    }
   ],
   "source": [
    "# Add list items\n",
    "# Append items\n",
    "# To add an item to the end of the list ,use the append() method:\n",
    "list=[\"banana\",\"cherry\",\"orange\"]\n",
    "list.append(\"grapes\")\n",
    "print(list)"
   ]
  },
  {
   "cell_type": "code",
   "execution_count": 146,
   "id": "d9d79f20",
   "metadata": {},
   "outputs": [
    {
     "name": "stdout",
     "output_type": "stream",
     "text": [
      "['banana', 'cherry', 'orange', 'grapes', 'fruits']\n"
     ]
    }
   ],
   "source": [
    "list.append(\"fruits\")\n",
    "print(list)"
   ]
  },
  {
   "cell_type": "code",
   "execution_count": 147,
   "id": "47f23158",
   "metadata": {},
   "outputs": [
    {
     "name": "stdout",
     "output_type": "stream",
     "text": [
      "['pen', 'Notes', 'book', 'notebook']\n"
     ]
    }
   ],
   "source": [
    "# Insert items\n",
    "# The insert() method inserts an item at the specified index;\n",
    "list=[\"pen\",\"book\",\"notebook\"]\n",
    "list.insert(1,\"Notes\")\n",
    "print(list)"
   ]
  },
  {
   "cell_type": "code",
   "execution_count": 149,
   "id": "d118b800",
   "metadata": {},
   "outputs": [
    {
     "name": "stdout",
     "output_type": "stream",
     "text": [
      "['pen', 'books', 'notes', 'college', 'school', 'university']\n"
     ]
    }
   ],
   "source": [
    "# Extend list\n",
    "# To append elements from another list to the current list,use the extend () method\n",
    "list=[\"pen\",\"books\",\"notes\"]\n",
    "list2=[\"college\",\"school\",\"university\"]\n",
    "list.extend(list2)\n",
    "print(list)"
   ]
  },
  {
   "cell_type": "code",
   "execution_count": 150,
   "id": "bd23044f",
   "metadata": {},
   "outputs": [
    {
     "name": "stdout",
     "output_type": "stream",
     "text": [
      "['apple', 'banana', 'cherry', 'kiwi', 'orange']\n"
     ]
    }
   ],
   "source": [
    "# Addd any iterable\n",
    "# The extend() method does not have to append lists, you can add anyiterable object(tuples,sets, dict)\n",
    "\n",
    "list=['apple','banana','cherry']\n",
    "tuple=(\"kiwi\",\"orange\")\n",
    "list.extend(tuple)\n",
    "print(list)"
   ]
  },
  {
   "cell_type": "code",
   "execution_count": 151,
   "id": "d968ebcd",
   "metadata": {},
   "outputs": [
    {
     "name": "stdout",
     "output_type": "stream",
     "text": [
      "['apple', 'cherry']\n"
     ]
    }
   ],
   "source": [
    "# Remove specified item\n",
    "# The remove() method removes the specified item.\n",
    "\n",
    "list=[\"apple\",\"banana\",\"cherry\"]\n",
    "list.remove(\"banana\")\n",
    "print(list)"
   ]
  },
  {
   "cell_type": "code",
   "execution_count": 152,
   "id": "77f0c7c8",
   "metadata": {},
   "outputs": [
    {
     "name": "stdout",
     "output_type": "stream",
     "text": [
      "['apple', 'cherry']\n"
     ]
    }
   ],
   "source": [
    "# Remove specified index\n",
    "# The pop() method removes the specified index\n",
    "\n",
    "list=[\"apple\",\"banana\",\"cherry\"]\n",
    "list.pop(1)\n",
    "print(list)"
   ]
  },
  {
   "cell_type": "code",
   "execution_count": 153,
   "id": "38320f33",
   "metadata": {},
   "outputs": [
    {
     "data": {
      "text/plain": [
       "'realme'"
      ]
     },
     "execution_count": 153,
     "metadata": {},
     "output_type": "execute_result"
    }
   ],
   "source": [
    "# if you do not specify the index , the pop () method removes the last item\n",
    "list=[\"apple\",\"nokia\",\"samsung\",\"realme\"]\n",
    "list.pop()"
   ]
  },
  {
   "cell_type": "code",
   "execution_count": 154,
   "id": "b3e5cffe",
   "metadata": {},
   "outputs": [
    {
     "name": "stdout",
     "output_type": "stream",
     "text": [
      "['apple', 'nokia', 'samsung']\n"
     ]
    }
   ],
   "source": [
    "print(list)"
   ]
  },
  {
   "cell_type": "code",
   "execution_count": 155,
   "id": "7460fecf",
   "metadata": {},
   "outputs": [],
   "source": [
    "# The del keyword also removes the specified index:\n",
    "list=[\"Nike\",\"adidas\",\"puma\",\"sparx\"]\n",
    "del list[0]"
   ]
  },
  {
   "cell_type": "code",
   "execution_count": 156,
   "id": "a2df03de",
   "metadata": {},
   "outputs": [
    {
     "name": "stdout",
     "output_type": "stream",
     "text": [
      "['adidas', 'puma', 'sparx']\n"
     ]
    }
   ],
   "source": [
    "print(list)"
   ]
  },
  {
   "cell_type": "code",
   "execution_count": 157,
   "id": "f819247e",
   "metadata": {},
   "outputs": [
    {
     "name": "stdout",
     "output_type": "stream",
     "text": [
      "<class 'list'>\n"
     ]
    }
   ],
   "source": [
    "# to delete entire list\n",
    "list=[\"apple\",\"red\",\"sweet\"]\n",
    "del (list)\n",
    "print(list)"
   ]
  },
  {
   "cell_type": "code",
   "execution_count": 158,
   "id": "6c4cbb22",
   "metadata": {},
   "outputs": [
    {
     "name": "stdout",
     "output_type": "stream",
     "text": [
      "[]\n"
     ]
    }
   ],
   "source": [
    "# Clear the list\n",
    "# the clear() method empties the list\n",
    "list=[\"office\",\"staff\",\"employee\",\"salary\"]\n",
    "list.clear()\n",
    "print(list)"
   ]
  },
  {
   "cell_type": "code",
   "execution_count": 159,
   "id": "dc840da8",
   "metadata": {},
   "outputs": [
    {
     "name": "stdout",
     "output_type": "stream",
     "text": [
      "samasung\n",
      "nokia\n",
      "googlepixel\n",
      "apple\n"
     ]
    }
   ],
   "source": [
    "# Loop lists\n",
    "# Loop through a list\n",
    "# You can loop through the list items by using a for loop;\n",
    "\n",
    "\n",
    "list=[\"samasung\",\"nokia\",\"googlepixel\",\"apple\"]\n",
    "for x in list:\n",
    "    print(x)"
   ]
  },
  {
   "cell_type": "code",
   "execution_count": 160,
   "id": "e254d0fb",
   "metadata": {},
   "outputs": [
    {
     "name": "stdout",
     "output_type": "stream",
     "text": [
      "computer\n",
      "desktop\n",
      "monitor\n",
      "screen\n"
     ]
    }
   ],
   "source": [
    "# Loop through the index numbers\n",
    "# Use the range() and len() functions to create a suitable iterable\n",
    "\n",
    "\n",
    "list=[\"computer\",\"desktop\",\"monitor\",\"screen\"]\n",
    "for i in range(len(list)):\n",
    "    print(list[i])"
   ]
  },
  {
   "cell_type": "markdown",
   "id": "b562929a",
   "metadata": {},
   "source": [
    "# Using a while loop\n",
    "- You can loop through the list items by using a while loop.\n",
    "\n",
    "- Use the len() function to determine the length of the list, then start at 0 and loop your way through the list items by referring to their indexes.\n",
    "\n",
    "- Remember to increase the index by 1 after each iteration."
   ]
  },
  {
   "cell_type": "code",
   "execution_count": 161,
   "id": "43098f67",
   "metadata": {},
   "outputs": [
    {
     "name": "stdout",
     "output_type": "stream",
     "text": [
      "office\n",
      "chair\n",
      "system\n",
      "employee\n"
     ]
    }
   ],
   "source": [
    "list=[\"office\",\"chair\",\"system\",\"employee\"]\n",
    "i=0\n",
    "while i< len(list):\n",
    "    print(list[i])\n",
    "    i=i+1"
   ]
  },
  {
   "cell_type": "code",
   "execution_count": 163,
   "id": "aa154755",
   "metadata": {},
   "outputs": [
    {
     "name": "stdout",
     "output_type": "stream",
     "text": [
      "home\n",
      "kitchen\n",
      "bedrooms\n",
      "washroom\n",
      "roof\n"
     ]
    },
    {
     "data": {
      "text/plain": [
       "[None, None, None, None, None]"
      ]
     },
     "execution_count": 163,
     "metadata": {},
     "output_type": "execute_result"
    }
   ],
   "source": [
    "# Looping using list comprehension\n",
    "# List comprehension offers the shortest syntax for looping through lists\n",
    "\n",
    "list=[\"home\",\"kitchen\",\"bedrooms\",\"washroom\",\"roof\"]\n",
    "[print(x) for x in list]"
   ]
  },
  {
   "cell_type": "code",
   "execution_count": 165,
   "id": "1d8a5b4f",
   "metadata": {},
   "outputs": [
    {
     "name": "stdout",
     "output_type": "stream",
     "text": [
      "['potato', 'tomato', 'carrot']\n"
     ]
    }
   ],
   "source": [
    "# List comprehension\n",
    "# list comprehension offers a shorter syntax when you want to create a new list based on \n",
    "#the value of an existing list.\n",
    "\n",
    "vegetables=['potato',\"tomato\",\"brinjal\",\"carrot\"]\n",
    "newlist=[]\n",
    "\n",
    "for x in vegetables:\n",
    "    if \"o\" in x:\n",
    "        newlist.append(x)\n",
    "print(newlist)"
   ]
  },
  {
   "cell_type": "code",
   "execution_count": null,
   "id": "40160b4c",
   "metadata": {},
   "outputs": [],
   "source": []
  },
  {
   "cell_type": "code",
   "execution_count": 167,
   "id": "26187821",
   "metadata": {},
   "outputs": [
    {
     "name": "stdout",
     "output_type": "stream",
     "text": [
      "['nse', 'bse']\n"
     ]
    }
   ],
   "source": [
    "stock_market=[\"nse\",\"bse\",\"mcx\",\"currency\"]\n",
    "newlist=[x for x in stock_market if \"s\" in x]\n",
    "print(newlist)"
   ]
  },
  {
   "cell_type": "code",
   "execution_count": null,
   "id": "df4cedb3",
   "metadata": {},
   "outputs": [],
   "source": [
    "# The syntax\n",
    "newlist=[expression for item in iterable if condition ==True]\n"
   ]
  },
  {
   "cell_type": "code",
   "execution_count": null,
   "id": "48e59407",
   "metadata": {},
   "outputs": [],
   "source": [
    "# Condition\n",
    "the condition is like a filter that only accepts the item that valuate to true.\n"
   ]
  },
  {
   "cell_type": "code",
   "execution_count": 168,
   "id": "1dbaf600",
   "metadata": {},
   "outputs": [
    {
     "name": "stdout",
     "output_type": "stream",
     "text": [
      "['nse', 'mcx', 'currency']\n"
     ]
    }
   ],
   "source": [
    "newlist=[x for x in stock_market if x!=\"bse\"]\n",
    "print(newlist)"
   ]
  },
  {
   "cell_type": "markdown",
   "id": "c43fc878",
   "metadata": {},
   "source": [
    "# Iterable \n",
    "- the iterable can be any iterable object, like a list,tuple,set etc.\n",
    "- you can use the range() function to create an iterable\n",
    "\n",
    " "
   ]
  },
  {
   "cell_type": "code",
   "execution_count": 169,
   "id": "c9e53f3d",
   "metadata": {},
   "outputs": [],
   "source": [
    "newlist=[x for x in range(10)]"
   ]
  },
  {
   "cell_type": "code",
   "execution_count": 170,
   "id": "5c90dd16",
   "metadata": {},
   "outputs": [
    {
     "name": "stdout",
     "output_type": "stream",
     "text": [
      "[0, 1, 2, 3, 4, 5, 6, 7, 8, 9]\n"
     ]
    }
   ],
   "source": [
    "print(newlist)"
   ]
  },
  {
   "cell_type": "code",
   "execution_count": 171,
   "id": "53d70816",
   "metadata": {},
   "outputs": [
    {
     "name": "stdout",
     "output_type": "stream",
     "text": [
      "[0, 1, 2, 3, 4]\n"
     ]
    }
   ],
   "source": [
    "newlist=[x for x in range(10) if x< 5]\n",
    "print(newlist)"
   ]
  },
  {
   "cell_type": "code",
   "execution_count": 174,
   "id": "66e5a51a",
   "metadata": {},
   "outputs": [
    {
     "name": "stdout",
     "output_type": "stream",
     "text": [
      "[0, 5, 10, 15, 20, 25, 30, 35, 40, 45, 50, 55, 60, 65, 70, 75]\n"
     ]
    }
   ],
   "source": [
    "newlist=[x for x in range(80) if x%5==0]\n",
    "print(newlist)"
   ]
  },
  {
   "cell_type": "code",
   "execution_count": 175,
   "id": "891b64aa",
   "metadata": {},
   "outputs": [
    {
     "data": {
      "text/plain": [
       "['nse', 'bse', 'mcx', 'currency']"
      ]
     },
     "execution_count": 175,
     "metadata": {},
     "output_type": "execute_result"
    }
   ],
   "source": [
    "stock_market"
   ]
  },
  {
   "cell_type": "code",
   "execution_count": 176,
   "id": "33cc9442",
   "metadata": {},
   "outputs": [],
   "source": [
    "newlist=[x .upper() for x in stock_market]"
   ]
  },
  {
   "cell_type": "code",
   "execution_count": 177,
   "id": "79d84b7a",
   "metadata": {},
   "outputs": [
    {
     "name": "stdout",
     "output_type": "stream",
     "text": [
      "['NSE', 'BSE', 'MCX', 'CURRENCY']\n"
     ]
    }
   ],
   "source": [
    "print(newlist)"
   ]
  },
  {
   "cell_type": "code",
   "execution_count": 179,
   "id": "afeef8a1",
   "metadata": {},
   "outputs": [
    {
     "name": "stdout",
     "output_type": "stream",
     "text": [
      "['Hello', 'Hello', 'Hello', 'Hello']\n"
     ]
    }
   ],
   "source": [
    "# set all values in the new list to \"Hello\"\n",
    "newlist=['Hello' for x in stock_market]\n",
    "print(newlist)"
   ]
  },
  {
   "cell_type": "code",
   "execution_count": 180,
   "id": "d154fa71",
   "metadata": {},
   "outputs": [
    {
     "data": {
      "text/plain": [
       "['Hello', 'Hello', 'Hello', 'Hello']"
      ]
     },
     "execution_count": 180,
     "metadata": {},
     "output_type": "execute_result"
    }
   ],
   "source": [
    "newlist"
   ]
  },
  {
   "cell_type": "code",
   "execution_count": 181,
   "id": "9740436f",
   "metadata": {},
   "outputs": [
    {
     "data": {
      "text/plain": [
       "['nse', 'bse', 'mcx', 'currency']"
      ]
     },
     "execution_count": 181,
     "metadata": {},
     "output_type": "execute_result"
    }
   ],
   "source": [
    "stock_market"
   ]
  },
  {
   "cell_type": "code",
   "execution_count": 184,
   "id": "08fc1186",
   "metadata": {},
   "outputs": [],
   "source": [
    "# Return nifty50 indtead of bse\n",
    "newlist=[x if x!= \"bse\" else \"nifty50\" for x in stock_market]"
   ]
  },
  {
   "cell_type": "code",
   "execution_count": 185,
   "id": "29920b34",
   "metadata": {},
   "outputs": [
    {
     "name": "stdout",
     "output_type": "stream",
     "text": [
      "['nse', 'nifty50', 'mcx', 'currency']\n"
     ]
    }
   ],
   "source": [
    "print(newlist)"
   ]
  },
  {
   "cell_type": "code",
   "execution_count": 186,
   "id": "21d836ef",
   "metadata": {},
   "outputs": [
    {
     "name": "stdout",
     "output_type": "stream",
     "text": [
      "['bangluru', 'delhi', 'kolkata', 'mumbai', 'patna']\n"
     ]
    }
   ],
   "source": [
    "# Sort list alphanumerically\n",
    "\n",
    "list=[\"patna\",\"mumbai\",'delhi',\"kolkata\",\"bangluru\"]\n",
    "list.sort()\n",
    "print(list)"
   ]
  },
  {
   "cell_type": "code",
   "execution_count": 187,
   "id": "f3a6142e",
   "metadata": {},
   "outputs": [
    {
     "name": "stdout",
     "output_type": "stream",
     "text": [
      "[50, 60, 80, 100]\n"
     ]
    }
   ],
   "source": [
    "# Sort the list numerically\n",
    "list=[100,50,60,80]\n",
    "list.sort()\n",
    "print(list)"
   ]
  },
  {
   "cell_type": "code",
   "execution_count": 190,
   "id": "fdd0abeb",
   "metadata": {},
   "outputs": [
    {
     "name": "stdout",
     "output_type": "stream",
     "text": [
      "['orange', 'mango', 'kiwi', 'guava', 'banana', 'apple']\n"
     ]
    }
   ],
   "source": [
    "# Sort descending\n",
    "list=['apple','orange',\"mango\",\"kiwi\",\"guava\",'banana']\n",
    "list.sort(reverse=True)\n",
    "print(list)"
   ]
  },
  {
   "cell_type": "code",
   "execution_count": 192,
   "id": "c5af7cac",
   "metadata": {},
   "outputs": [
    {
     "name": "stdout",
     "output_type": "stream",
     "text": [
      "[65, 25, 15, 85, 95]\n"
     ]
    }
   ],
   "source": [
    "# Customize sort function\n",
    "# you can also customize your own function by using the keyword argument key=function\n",
    "\n",
    "def myfunc(n):\n",
    "    return abs(n-50)\n",
    "list=[15,85,95,65,25]\n",
    "list.sort(key=myfunc)\n",
    "print(list)"
   ]
  },
  {
   "cell_type": "markdown",
   "id": "4ccbd2c8",
   "metadata": {},
   "source": [
    "# case insensitive sort\n",
    "- By default the sort() method is case sensitive, resulting in all capital letters being seorted before lower case letters.\n"
   ]
  },
  {
   "cell_type": "code",
   "execution_count": 193,
   "id": "9ac8155c",
   "metadata": {},
   "outputs": [
    {
     "name": "stdout",
     "output_type": "stream",
     "text": [
      "['boxer', 'coat', 'pant', 'shirt', 't-shirt']\n"
     ]
    }
   ],
   "source": [
    "list=['shirt',\"pant\",\"coat\",\"boxer\",\"t-shirt\"]\n",
    "list.sort()\n",
    "print(list)"
   ]
  },
  {
   "cell_type": "code",
   "execution_count": 194,
   "id": "87bcb6fc",
   "metadata": {},
   "outputs": [
    {
     "name": "stdout",
     "output_type": "stream",
     "text": [
      "['Pant', 'boxer', 'coat', 'shirt', 't-shirt']\n"
     ]
    }
   ],
   "source": [
    "list=['shirt',\"Pant\",\"coat\",\"boxer\",\"t-shirt\"]\n",
    "list.sort()\n",
    "print(list)"
   ]
  },
  {
   "cell_type": "code",
   "execution_count": 196,
   "id": "7405561f",
   "metadata": {},
   "outputs": [
    {
     "name": "stdout",
     "output_type": "stream",
     "text": [
      "['boxer', 'coat', 'Pant', 'shirt', 't-shirt']\n"
     ]
    }
   ],
   "source": [
    "#So if you want a case-insensitive sort function, use str.lower as a key function:\n",
    "list=['shirt',\"Pant\",\"coat\",\"boxer\",\"t-shirt\"]\n",
    "list.sort(key=str.lower)\n",
    "print(list)"
   ]
  },
  {
   "cell_type": "code",
   "execution_count": 197,
   "id": "17bb2ad2",
   "metadata": {},
   "outputs": [
    {
     "name": "stdout",
     "output_type": "stream",
     "text": [
      "['kiwi', 'apple', 'Orange', 'banana']\n"
     ]
    }
   ],
   "source": [
    "# Reverse order\n",
    "list=[\"banana\",\"Orange\",\"apple\",\"kiwi\"]\n",
    "list.reverse()\n",
    "print(list)"
   ]
  },
  {
   "cell_type": "code",
   "execution_count": 212,
   "id": "63670220",
   "metadata": {},
   "outputs": [
    {
     "name": "stdout",
     "output_type": "stream",
     "text": [
      "['linkedin', 'meta', 'instagram', 'snapchat']\n"
     ]
    }
   ],
   "source": [
    "# Copy a list\n",
    "list=[\"linkedin\",\"meta\",\"instagram\",\"snapchat\"]\n",
    "mylist=list.copy()\n",
    "print(mylist)"
   ]
  },
  {
   "cell_type": "code",
   "execution_count": 213,
   "id": "bc036e9c",
   "metadata": {},
   "outputs": [
    {
     "name": "stdout",
     "output_type": "stream",
     "text": [
      "['a', 'b', 'c', '1', '2', '3']\n"
     ]
    }
   ],
   "source": [
    "# Join two list\n",
    "list1=['a','b','c']\n",
    "list2=['1','2','3']\n",
    "list3=list1+list2\n",
    "print(list3)"
   ]
  },
  {
   "cell_type": "code",
   "execution_count": 214,
   "id": "18ff30a4",
   "metadata": {},
   "outputs": [
    {
     "name": "stdout",
     "output_type": "stream",
     "text": [
      "['a', 'b', 'c', '1', '2', '3']\n"
     ]
    }
   ],
   "source": [
    "# another way\n",
    "for x in list2:\n",
    "    list1.append(x)\n",
    "    \n",
    "print(list1)"
   ]
  },
  {
   "cell_type": "code",
   "execution_count": 215,
   "id": "877b74f5",
   "metadata": {},
   "outputs": [
    {
     "name": "stdout",
     "output_type": "stream",
     "text": [
      "['a', 'b', 'c', '1', '2', '3', '1', '2', '3']\n"
     ]
    }
   ],
   "source": [
    "# Use the extend() method to add list2 at the end of list1\n",
    "list1.extend(list2)\n",
    "print(list1)"
   ]
  },
  {
   "cell_type": "code",
   "execution_count": null,
   "id": "914d9f10",
   "metadata": {},
   "outputs": [],
   "source": []
  },
  {
   "cell_type": "markdown",
   "id": "342cd193",
   "metadata": {},
   "source": [
    "# Python Tuples"
   ]
  },
  {
   "cell_type": "code",
   "execution_count": 219,
   "id": "b520e7ce",
   "metadata": {},
   "outputs": [],
   "source": [
    "mytuple=(\"watch\",\"belt\",\"cap\",\"mobile\")"
   ]
  },
  {
   "cell_type": "code",
   "execution_count": 220,
   "id": "ed075944",
   "metadata": {},
   "outputs": [
    {
     "name": "stdout",
     "output_type": "stream",
     "text": [
      "('watch', 'belt', 'cap', 'mobile')\n"
     ]
    }
   ],
   "source": [
    "print(mytuple)"
   ]
  },
  {
   "cell_type": "markdown",
   "id": "d99e0c25",
   "metadata": {},
   "source": [
    "# Tuple\n",
    "- Tuples are used to store multiple items in a single variable.\n",
    "\n",
    "- Tuple is one of 4 built-in data types in Python used to store collections of data, the other 3 are List, Set, and Dictionary, all with different qualities and usage.\n",
    "\n",
    "- A tuple is a collection which is ordered and unchangeable.\n",
    "\n",
    "- Tuples are written with round brackets."
   ]
  },
  {
   "cell_type": "markdown",
   "id": "f055055d",
   "metadata": {},
   "source": [
    "- ORDERED\n",
    "- UNCHANGEABLE\n",
    "- ALLOW DUPLICATES"
   ]
  },
  {
   "cell_type": "code",
   "execution_count": 221,
   "id": "2a2e42db",
   "metadata": {},
   "outputs": [
    {
     "name": "stdout",
     "output_type": "stream",
     "text": [
      "4\n"
     ]
    }
   ],
   "source": [
    "mytuple=('boys','mens',\"girls\",\"womens\")\n",
    "print(len(mytuple))"
   ]
  },
  {
   "cell_type": "code",
   "execution_count": 222,
   "id": "aa9f0e5e",
   "metadata": {},
   "outputs": [
    {
     "name": "stdout",
     "output_type": "stream",
     "text": [
      "<class 'tuple'>\n"
     ]
    }
   ],
   "source": [
    "# Create tuple with one item\n",
    "thistuple=('shirt',)\n",
    "print(type(thistuple))"
   ]
  },
  {
   "cell_type": "code",
   "execution_count": 223,
   "id": "d75766a9",
   "metadata": {},
   "outputs": [
    {
     "name": "stdout",
     "output_type": "stream",
     "text": [
      "<class 'str'>\n"
     ]
    }
   ],
   "source": [
    "thattuple=('shirt')\n",
    "print(type(thattuple))"
   ]
  },
  {
   "cell_type": "markdown",
   "id": "d90e7ceb",
   "metadata": {},
   "source": [
    "- so comma is necessary"
   ]
  },
  {
   "cell_type": "code",
   "execution_count": 224,
   "id": "8a1c5242",
   "metadata": {},
   "outputs": [],
   "source": [
    "# Tuple items-data types\n",
    "t1=('lion',\"tiger\",\"deer\",\"elephant\")\n",
    "t2=(1,2,3,5)\n",
    "t3=(True,False,True)"
   ]
  },
  {
   "cell_type": "code",
   "execution_count": 229,
   "id": "853d40fe",
   "metadata": {},
   "outputs": [
    {
     "name": "stdout",
     "output_type": "stream",
     "text": [
      "<class 'tuple'>\n",
      "<class 'tuple'>\n",
      "<class 'tuple'>\n"
     ]
    }
   ],
   "source": [
    "print(type(t1))\n",
    "print(type(t2))\n",
    "print(type(t3))"
   ]
  },
  {
   "cell_type": "code",
   "execution_count": 228,
   "id": "2cf83a8e",
   "metadata": {},
   "outputs": [
    {
     "name": "stdout",
     "output_type": "stream",
     "text": [
      "<class 'tuple'>\n"
     ]
    }
   ],
   "source": [
    "mytuple = (\"apple\", \"banana\", \"cherry\")\n",
    "print(type(mytuple))"
   ]
  },
  {
   "cell_type": "code",
   "execution_count": 230,
   "id": "87d7938a",
   "metadata": {},
   "outputs": [
    {
     "ename": "TypeError",
     "evalue": "'tuple' object is not callable",
     "output_type": "error",
     "traceback": [
      "\u001b[1;31m---------------------------------------------------------------------------\u001b[0m",
      "\u001b[1;31mTypeError\u001b[0m                                 Traceback (most recent call last)",
      "Input \u001b[1;32mIn [230]\u001b[0m, in \u001b[0;36m<cell line: 3>\u001b[1;34m()\u001b[0m\n\u001b[0;32m      1\u001b[0m \u001b[38;5;66;03m# The tuple() constructor\u001b[39;00m\n\u001b[1;32m----> 3\u001b[0m thistuple\u001b[38;5;241m=\u001b[39m\u001b[38;5;28;43mtuple\u001b[39;49m\u001b[43m(\u001b[49m\u001b[43m(\u001b[49m\u001b[38;5;124;43m\"\u001b[39;49m\u001b[38;5;124;43mmobile\u001b[39;49m\u001b[38;5;124;43m\"\u001b[39;49m\u001b[43m,\u001b[49m\u001b[38;5;124;43m\"\u001b[39;49m\u001b[38;5;124;43msim\u001b[39;49m\u001b[38;5;124;43m\"\u001b[39;49m\u001b[43m,\u001b[49m\u001b[38;5;124;43m\"\u001b[39;49m\u001b[38;5;124;43mmemory\u001b[39;49m\u001b[38;5;124;43m\"\u001b[39;49m\u001b[43m,\u001b[49m\u001b[38;5;124;43m\"\u001b[39;49m\u001b[38;5;124;43mnetwork\u001b[39;49m\u001b[38;5;124;43m\"\u001b[39;49m\u001b[43m)\u001b[49m\u001b[43m)\u001b[49m\n\u001b[0;32m      4\u001b[0m \u001b[38;5;28mprint\u001b[39m(thistuple)\n",
      "\u001b[1;31mTypeError\u001b[0m: 'tuple' object is not callable"
     ]
    }
   ],
   "source": [
    "# The tuple() constructor\n",
    "\n",
    "thistuple=tuple((\"mobile\",\"sim\",\"memory\",\"network\"))\n",
    "print(thistuple)"
   ]
  },
  {
   "cell_type": "code",
   "execution_count": 231,
   "id": "71990e66",
   "metadata": {},
   "outputs": [
    {
     "name": "stdout",
     "output_type": "stream",
     "text": [
      "sun\n"
     ]
    }
   ],
   "source": [
    "# Access tuple items\n",
    "thistuple=('moon',\"sun\",'stars')\n",
    "print(thistuple[1])"
   ]
  },
  {
   "cell_type": "code",
   "execution_count": 233,
   "id": "f769d778",
   "metadata": {},
   "outputs": [
    {
     "name": "stdout",
     "output_type": "stream",
     "text": [
      "stars\n"
     ]
    }
   ],
   "source": [
    "print(thistuple[-1])"
   ]
  },
  {
   "cell_type": "code",
   "execution_count": 236,
   "id": "80c3bd1e",
   "metadata": {},
   "outputs": [
    {
     "name": "stdout",
     "output_type": "stream",
     "text": [
      "('kiwi', 'melon', 'lichi')\n"
     ]
    }
   ],
   "source": [
    "# Range of indexes\n",
    "thistuple=(\"apple\",\"banana\",\"kiwi\",\"melon\",\"lichi\",\"guava\")\n",
    "print(thistuple[2:5])"
   ]
  },
  {
   "cell_type": "code",
   "execution_count": 237,
   "id": "ae991f83",
   "metadata": {},
   "outputs": [
    {
     "name": "stdout",
     "output_type": "stream",
     "text": [
      "('apple', 'banana', 'kiwi', 'melon')\n"
     ]
    }
   ],
   "source": [
    "print(thistuple[:4])"
   ]
  },
  {
   "cell_type": "code",
   "execution_count": 238,
   "id": "dd327305",
   "metadata": {},
   "outputs": [
    {
     "name": "stdout",
     "output_type": "stream",
     "text": [
      "('kiwi', 'melon', 'lichi', 'guava')\n"
     ]
    }
   ],
   "source": [
    "print(thistuple[2:])"
   ]
  },
  {
   "cell_type": "code",
   "execution_count": 239,
   "id": "d137bfa1",
   "metadata": {},
   "outputs": [
    {
     "name": "stdout",
     "output_type": "stream",
     "text": [
      "('kiwi', 'melon', 'lichi')\n"
     ]
    }
   ],
   "source": [
    "# Range of negative indexs\n",
    "print(thistuple[-4:-1])"
   ]
  },
  {
   "cell_type": "code",
   "execution_count": 241,
   "id": "c129740e",
   "metadata": {},
   "outputs": [
    {
     "name": "stdout",
     "output_type": "stream",
     "text": [
      "no\n"
     ]
    }
   ],
   "source": [
    "# Check if item exists\n",
    "thistuple=('datascientist','dataanlyst','dataengineer')\n",
    "if \"data\" in thistuple:\n",
    "    print(\"yes\")\n",
    "else:\n",
    "    print(\"no\")"
   ]
  },
  {
   "cell_type": "markdown",
   "id": "51e433a3",
   "metadata": {},
   "source": [
    "# Update tuples\n",
    "## Change Tuple Values\n",
    "- Once a tuple is created, you cannot change its values. Tuples are unchangeable, or immutable as it also is called.\n",
    "\n",
    "- But there is a workaround. You can convert the tuple into a list, change the list, and convert the list back into a tuple."
   ]
  },
  {
   "cell_type": "code",
   "execution_count": 267,
   "id": "c13b0e0c",
   "metadata": {},
   "outputs": [
    {
     "ename": "IndexError",
     "evalue": "list assignment index out of range",
     "output_type": "error",
     "traceback": [
      "\u001b[1;31m---------------------------------------------------------------------------\u001b[0m",
      "\u001b[1;31mIndexError\u001b[0m                                Traceback (most recent call last)",
      "Input \u001b[1;32mIn [267]\u001b[0m, in \u001b[0;36m<cell line: 3>\u001b[1;34m()\u001b[0m\n\u001b[0;32m      1\u001b[0m x\u001b[38;5;241m=\u001b[39m(\u001b[38;5;124m\"\u001b[39m\u001b[38;5;124mglass\u001b[39m\u001b[38;5;124m\"\u001b[39m,\u001b[38;5;124m\"\u001b[39m\u001b[38;5;124mcup\u001b[39m\u001b[38;5;124m\"\u001b[39m,\u001b[38;5;124m\"\u001b[39m\u001b[38;5;124mplate\u001b[39m\u001b[38;5;124m\"\u001b[39m)\n\u001b[0;32m      2\u001b[0m z\u001b[38;5;241m=\u001b[39m[x]\n\u001b[1;32m----> 3\u001b[0m z[\u001b[38;5;241m1\u001b[39m]\u001b[38;5;241m=\u001b[39m\u001b[38;5;124m\"\u001b[39m\u001b[38;5;124mspoon\u001b[39m\u001b[38;5;124m\"\u001b[39m\n\u001b[0;32m      4\u001b[0m x\u001b[38;5;241m=\u001b[39m\u001b[38;5;28mtuple\u001b[39m(z)\n\u001b[0;32m      5\u001b[0m \u001b[38;5;28mprint\u001b[39m(x)\n",
      "\u001b[1;31mIndexError\u001b[0m: list assignment index out of range"
     ]
    }
   ],
   "source": [
    "x=(\"glass\",\"cup\",\"plate\")\n",
    "z=[x]\n",
    "z[1]=\"spoon\"\n",
    "x=tuple(z)\n",
    "print(x)"
   ]
  },
  {
   "cell_type": "code",
   "execution_count": 265,
   "id": "04ac3935",
   "metadata": {},
   "outputs": [
    {
     "name": "stdout",
     "output_type": "stream",
     "text": [
      "['abc', 'def']\n"
     ]
    }
   ],
   "source": [
    "abc=[\"abc\",\"def\"]\n",
    "print(abc)"
   ]
  },
  {
   "cell_type": "code",
   "execution_count": 268,
   "id": "f480ad1e",
   "metadata": {},
   "outputs": [
    {
     "name": "stdout",
     "output_type": "stream",
     "text": [
      "('keyboard', 'mouse', 'cpu', 'screen', 'ram')\n"
     ]
    }
   ],
   "source": [
    "# Add tuple to a tuple\n",
    "thistuple=(\"keyboard\",\"mouse\",\"cpu\",\"screen\")\n",
    "y=(\"ram\",)\n",
    "thistuple +=y\n",
    "print(thistuple)"
   ]
  },
  {
   "cell_type": "code",
   "execution_count": 270,
   "id": "de17c5e6",
   "metadata": {},
   "outputs": [
    {
     "name": "stdout",
     "output_type": "stream",
     "text": [
      "kitkat\n",
      "dairymilk\n",
      "fivestar\n",
      "silk\n"
     ]
    }
   ],
   "source": [
    "# Loop through a tuple\n",
    "mytuple=(\"kitkat\",\"dairymilk\",\"fivestar\",\"silk\")\n",
    "for x in mytuple:\n",
    "    print(x)"
   ]
  },
  {
   "cell_type": "code",
   "execution_count": 271,
   "id": "e136d837",
   "metadata": {},
   "outputs": [
    {
     "name": "stdout",
     "output_type": "stream",
     "text": [
      "kitkat\n",
      "dairymilk\n",
      "fivestar\n",
      "silk\n"
     ]
    }
   ],
   "source": [
    "# Loop through the index numbers\n",
    "mytuple=(\"kitkat\",\"dairymilk\",\"fivestar\",\"silk\")\n",
    "for i in range(len(mytuple)):\n",
    "    print(mytuple[i])"
   ]
  },
  {
   "cell_type": "code",
   "execution_count": 272,
   "id": "ca8641a6",
   "metadata": {},
   "outputs": [
    {
     "name": "stdout",
     "output_type": "stream",
     "text": [
      "kitkat\n",
      "dairymilk\n",
      "fivestar\n",
      "silk\n"
     ]
    }
   ],
   "source": [
    "# Using while loop\n",
    "mytuple=(\"kitkat\",\"dairymilk\",\"fivestar\",\"silk\")\n",
    "i=0\n",
    "while i< len(mytuple):\n",
    "    print(mytuple[i])\n",
    "    i=i+1"
   ]
  },
  {
   "cell_type": "code",
   "execution_count": 273,
   "id": "7ed59e0b",
   "metadata": {},
   "outputs": [
    {
     "name": "stdout",
     "output_type": "stream",
     "text": [
      "('a', 'b', 'c', 1, 2, 3)\n"
     ]
    }
   ],
   "source": [
    "# Join two tuples\n",
    "t1=(\"a\",\"b\",\"c\")\n",
    "t2=(1,2,3)\n",
    "t3=t1+t2\n",
    "print(t3)"
   ]
  },
  {
   "cell_type": "code",
   "execution_count": 274,
   "id": "57babacf",
   "metadata": {},
   "outputs": [
    {
     "name": "stdout",
     "output_type": "stream",
     "text": [
      "('apple', 'banana', 'cherry', 'apple', 'banana', 'cherry')\n"
     ]
    }
   ],
   "source": [
    "# Multiply tuples\n",
    "fruits=(\"apple\",\"banana\",\"cherry\")\n",
    "mytuple=fruits*2\n",
    "\n",
    "print(mytuple)"
   ]
  },
  {
   "cell_type": "code",
   "execution_count": null,
   "id": "613ae540",
   "metadata": {},
   "outputs": [],
   "source": [
    "# Python set"
   ]
  },
  {
   "cell_type": "code",
   "execution_count": 275,
   "id": "37eab6ec",
   "metadata": {},
   "outputs": [
    {
     "name": "stdout",
     "output_type": "stream",
     "text": [
      "{'headphone', 'earphones', 'earpods'}\n"
     ]
    }
   ],
   "source": [
    "myset={'earphones','earpods',\"headphone\"}\n",
    "print(myset)"
   ]
  },
  {
   "cell_type": "code",
   "execution_count": null,
   "id": "f7d4f643",
   "metadata": {},
   "outputs": [],
   "source": [
    "- Unoredred\n",
    "- unchangeable\n",
    "- duplicates not allowed"
   ]
  },
  {
   "cell_type": "code",
   "execution_count": 277,
   "id": "65eb356e",
   "metadata": {},
   "outputs": [
    {
     "name": "stdout",
     "output_type": "stream",
     "text": [
      "{'b', 'c', 'a'}\n"
     ]
    }
   ],
   "source": [
    "myset={\"a\",\"a\",\"a\",'b',\"c\"}\n",
    "print(myset)"
   ]
  },
  {
   "cell_type": "code",
   "execution_count": 278,
   "id": "ef8908f6",
   "metadata": {},
   "outputs": [
    {
     "name": "stdout",
     "output_type": "stream",
     "text": [
      "3\n"
     ]
    }
   ],
   "source": [
    "print(len(myset))"
   ]
  },
  {
   "cell_type": "code",
   "execution_count": 279,
   "id": "c4536235",
   "metadata": {},
   "outputs": [
    {
     "name": "stdout",
     "output_type": "stream",
     "text": [
      "<class 'set'>\n"
     ]
    }
   ],
   "source": [
    "print(type(myset))"
   ]
  },
  {
   "cell_type": "code",
   "execution_count": 280,
   "id": "2761cf95",
   "metadata": {},
   "outputs": [
    {
     "name": "stdout",
     "output_type": "stream",
     "text": [
      "{'him', 'her', 'he', 'his'}\n"
     ]
    }
   ],
   "source": [
    "# The set() constructor\n",
    "thisset=set((\"he\",\"his\",'her',\"him\"))\n",
    "print(thisset)"
   ]
  },
  {
   "cell_type": "code",
   "execution_count": 281,
   "id": "25ba7673",
   "metadata": {},
   "outputs": [
    {
     "name": "stdout",
     "output_type": "stream",
     "text": [
      "him\n",
      "he\n",
      "his\n",
      "her\n"
     ]
    }
   ],
   "source": [
    "# Acess items\n",
    "thisset={\"he\",'his','him','her'}\n",
    "for x in thisset:\n",
    "    print(x)"
   ]
  },
  {
   "cell_type": "code",
   "execution_count": 282,
   "id": "a7b706ec",
   "metadata": {},
   "outputs": [
    {
     "name": "stdout",
     "output_type": "stream",
     "text": [
      "True\n"
     ]
    }
   ],
   "source": [
    "print(\"his\" in thisset)"
   ]
  },
  {
   "cell_type": "code",
   "execution_count": 283,
   "id": "def83b51",
   "metadata": {},
   "outputs": [],
   "source": [
    "# Once a set is created , you cannot change its items , but you can add new items"
   ]
  },
  {
   "cell_type": "code",
   "execution_count": 284,
   "id": "88b6492f",
   "metadata": {},
   "outputs": [
    {
     "data": {
      "text/plain": [
       "{'he', 'her', 'him', 'his'}"
      ]
     },
     "execution_count": 284,
     "metadata": {},
     "output_type": "execute_result"
    }
   ],
   "source": [
    "thisset"
   ]
  },
  {
   "cell_type": "code",
   "execution_count": 285,
   "id": "ed951eb6",
   "metadata": {},
   "outputs": [
    {
     "name": "stdout",
     "output_type": "stream",
     "text": [
      "{'he', 'him', 'her', 'them', 'his'}\n"
     ]
    }
   ],
   "source": [
    "# add items\n",
    "thisset.add(\"them\")\n",
    "print(thisset)"
   ]
  },
  {
   "cell_type": "code",
   "execution_count": 286,
   "id": "67ee0bee",
   "metadata": {},
   "outputs": [
    {
     "name": "stdout",
     "output_type": "stream",
     "text": [
      "{'he', 'him', 'her', 'them', 'his'}\n",
      "{'b', 'c', 'a'}\n"
     ]
    }
   ],
   "source": [
    "# add sets\n",
    "print(thisset)\n",
    "print(myset)"
   ]
  },
  {
   "cell_type": "code",
   "execution_count": 287,
   "id": "01969b2a",
   "metadata": {},
   "outputs": [
    {
     "name": "stdout",
     "output_type": "stream",
     "text": [
      "{'b', 'he', 'him', 'her', 'c', 'them', 'a', 'his'}\n"
     ]
    }
   ],
   "source": [
    "thisset.update(myset)\n",
    "print(thisset)"
   ]
  },
  {
   "cell_type": "code",
   "execution_count": 288,
   "id": "29de3742",
   "metadata": {},
   "outputs": [
    {
     "name": "stdout",
     "output_type": "stream",
     "text": [
      "{'b', 'he', 'him', 'her', 'c', 'them', 'a', 'his'}\n"
     ]
    }
   ],
   "source": [
    "myset.update(thisset)\n",
    "print(myset)"
   ]
  },
  {
   "cell_type": "code",
   "execution_count": 289,
   "id": "3c96c847",
   "metadata": {},
   "outputs": [
    {
     "name": "stdout",
     "output_type": "stream",
     "text": [
      "{'taa', 'zoo', 'foo', 'baa', 'too', 'boo', 'faa', 'zaa'}\n"
     ]
    }
   ],
   "source": [
    "# Add any iterable\n",
    "#The object in the update() method does not have to be a set, it can be any iterable object (tuples, lists, dictionaries etc.)\n",
    "set1={'foo',\"boo\",\"zoo\",'too'}\n",
    "list1=['faa','baa','zaa','taa']\n",
    "set1.update(list1)\n",
    "print(set1)"
   ]
  },
  {
   "cell_type": "code",
   "execution_count": 290,
   "id": "406f0c79",
   "metadata": {},
   "outputs": [
    {
     "data": {
      "text/plain": [
       "{'baa', 'boo', 'faa', 'foo', 'taa', 'too', 'zaa', 'zoo'}"
      ]
     },
     "execution_count": 290,
     "metadata": {},
     "output_type": "execute_result"
    }
   ],
   "source": [
    "# Remove item\n",
    "set1"
   ]
  },
  {
   "cell_type": "code",
   "execution_count": 291,
   "id": "116a9261",
   "metadata": {},
   "outputs": [
    {
     "name": "stdout",
     "output_type": "stream",
     "text": [
      "{'taa', 'zoo', 'foo', 'baa', 'too', 'faa', 'zaa'}\n"
     ]
    }
   ],
   "source": [
    "set1.remove(\"boo\")\n",
    "print(set1)"
   ]
  },
  {
   "cell_type": "code",
   "execution_count": 292,
   "id": "ea03cf29",
   "metadata": {},
   "outputs": [
    {
     "name": "stdout",
     "output_type": "stream",
     "text": [
      "{'taa', 'zoo', 'foo', 'too', 'faa', 'zaa'}\n"
     ]
    }
   ],
   "source": [
    "#by discard method\n",
    "set1.discard(\"baa\")\n",
    "print(set1)"
   ]
  },
  {
   "cell_type": "code",
   "execution_count": 293,
   "id": "fd4c7acf",
   "metadata": {},
   "outputs": [],
   "source": [
    "# Clear method empties the set\n",
    "set1.clear()"
   ]
  },
  {
   "cell_type": "code",
   "execution_count": 294,
   "id": "ee8ae9c1",
   "metadata": {},
   "outputs": [
    {
     "name": "stdout",
     "output_type": "stream",
     "text": [
      "set()\n"
     ]
    }
   ],
   "source": [
    "print(set1)"
   ]
  },
  {
   "cell_type": "code",
   "execution_count": 300,
   "id": "0adae3a8",
   "metadata": {},
   "outputs": [
    {
     "name": "stdout",
     "output_type": "stream",
     "text": [
      "{'zian', 'jerry', 'tom', 'nobita'}\n"
     ]
    }
   ],
   "source": [
    "set2={\"tom\",'jerry','nobita','zian'}\n",
    "print(set2)"
   ]
  },
  {
   "cell_type": "code",
   "execution_count": 311,
   "id": "f8659fa8",
   "metadata": {},
   "outputs": [
    {
     "ename": "NameError",
     "evalue": "name 'set2' is not defined",
     "output_type": "error",
     "traceback": [
      "\u001b[1;31m---------------------------------------------------------------------------\u001b[0m",
      "\u001b[1;31mNameError\u001b[0m                                 Traceback (most recent call last)",
      "Input \u001b[1;32mIn [311]\u001b[0m, in \u001b[0;36m<cell line: 4>\u001b[1;34m()\u001b[0m\n\u001b[0;32m      2\u001b[0m set2\u001b[38;5;241m=\u001b[39m{\u001b[38;5;124m\"\u001b[39m\u001b[38;5;124mtom\u001b[39m\u001b[38;5;124m\"\u001b[39m,\u001b[38;5;124m'\u001b[39m\u001b[38;5;124mjerry\u001b[39m\u001b[38;5;124m'\u001b[39m,\u001b[38;5;124m'\u001b[39m\u001b[38;5;124mnobita\u001b[39m\u001b[38;5;124m'\u001b[39m,\u001b[38;5;124m'\u001b[39m\u001b[38;5;124mzian\u001b[39m\u001b[38;5;124m'\u001b[39m}\n\u001b[0;32m      3\u001b[0m \u001b[38;5;28;01mdel\u001b[39;00m set2\n\u001b[1;32m----> 4\u001b[0m \u001b[38;5;28mprint\u001b[39m(\u001b[43mset2\u001b[49m)\n",
      "\u001b[1;31mNameError\u001b[0m: name 'set2' is not defined"
     ]
    }
   ],
   "source": [
    "# del keyword will delete the set completely\n",
    "set2={\"tom\",'jerry','nobita','zian'}\n",
    "del set2\n",
    "print(set2)"
   ]
  },
  {
   "cell_type": "code",
   "execution_count": 302,
   "id": "6f09d26e",
   "metadata": {},
   "outputs": [
    {
     "name": "stdout",
     "output_type": "stream",
     "text": [
      "x-men\n",
      "avenger\n",
      "spiderman\n",
      "deadpool\n"
     ]
    }
   ],
   "source": [
    "# Loop items\n",
    "set3={'avenger',\"spiderman\",\"deadpool\",\"x-men\"}\n",
    "for x in set3:\n",
    "    print(x)"
   ]
  },
  {
   "cell_type": "markdown",
   "id": "24c7a081",
   "metadata": {},
   "source": [
    "#  Join Two Sets\n",
    "- There are several ways to join two or more sets in Python.\n",
    "\n",
    "- You can use the union() method that returns a new set containing all items from both sets, or the update() method that inserts all the items from one set into another:"
   ]
  },
  {
   "cell_type": "code",
   "execution_count": 304,
   "id": "05322f51",
   "metadata": {},
   "outputs": [
    {
     "name": "stdout",
     "output_type": "stream",
     "text": [
      "{'b', 1, 2, 3, 'a', 'c'}\n"
     ]
    }
   ],
   "source": [
    "# By union method\n",
    "set1={'a','b','c'}\n",
    "set2={1,2,3}\n",
    "set3=set1.union(set2)\n",
    "print(set3)"
   ]
  },
  {
   "cell_type": "code",
   "execution_count": 307,
   "id": "db7c528e",
   "metadata": {},
   "outputs": [
    {
     "name": "stdout",
     "output_type": "stream",
     "text": [
      "{'b', 1, 2, 3, 'c', 'a'}\n"
     ]
    }
   ],
   "source": [
    "# By update method\n",
    "set1.update(set2)\n",
    "print(set1)"
   ]
  },
  {
   "cell_type": "code",
   "execution_count": null,
   "id": "dc99479b",
   "metadata": {},
   "outputs": [],
   "source": []
  },
  {
   "cell_type": "markdown",
   "id": "9d00b2d8",
   "metadata": {},
   "source": [
    "## Keep ONLY the Duplicates\n",
    "-  The intersection_update() method will keep only the items that are present in both sets."
   ]
  },
  {
   "cell_type": "code",
   "execution_count": 308,
   "id": "570bc6b1",
   "metadata": {},
   "outputs": [
    {
     "name": "stdout",
     "output_type": "stream",
     "text": [
      "{'apple'}\n"
     ]
    }
   ],
   "source": [
    "x={'google',\"microsoft\",\"apple\"}\n",
    "y={\"apple\",'facebook',\"meta\"}\n",
    "x.intersection_update(y)\n",
    "print(x)"
   ]
  },
  {
   "cell_type": "code",
   "execution_count": 310,
   "id": "06f5cd81",
   "metadata": {},
   "outputs": [
    {
     "name": "stdout",
     "output_type": "stream",
     "text": [
      "{'apple'}\n"
     ]
    }
   ],
   "source": [
    "y.intersection_update(x)\n",
    "print(y)"
   ]
  },
  {
   "cell_type": "code",
   "execution_count": null,
   "id": "d5645700",
   "metadata": {},
   "outputs": [],
   "source": []
  },
  {
   "cell_type": "markdown",
   "id": "338b05a8",
   "metadata": {},
   "source": [
    "## Keep All, But NOT the Duplicates\n",
    "- \n",
    "The symmetric_difference_update() method will keep only the elements that are NOT present in both sets."
   ]
  },
  {
   "cell_type": "code",
   "execution_count": 313,
   "id": "d69cd5fd",
   "metadata": {},
   "outputs": [
    {
     "name": "stdout",
     "output_type": "stream",
     "text": [
      "{'meta', 'facebook', 'google', 'microsoft'}\n"
     ]
    }
   ],
   "source": [
    "x={'apple',\"microsoft\",\"facebook\"}\n",
    "y={\"meta\",\"google\",\"apple\"}\n",
    "x.symmetric_difference_update(y)\n",
    "print(x)"
   ]
  },
  {
   "cell_type": "code",
   "execution_count": 314,
   "id": "83b40b47",
   "metadata": {},
   "outputs": [
    {
     "name": "stdout",
     "output_type": "stream",
     "text": [
      "{'banana', 'google', 'cherry', 'microsoft'}\n"
     ]
    }
   ],
   "source": [
    "x = {\"apple\", \"banana\", \"cherry\"}\n",
    "y = {\"google\", \"microsoft\", \"apple\"}\n",
    "\n",
    "z = x.symmetric_difference(y)\n",
    "\n",
    "print(z)"
   ]
  },
  {
   "cell_type": "code",
   "execution_count": 315,
   "id": "7997946a",
   "metadata": {},
   "outputs": [
    {
     "name": "stdout",
     "output_type": "stream",
     "text": [
      "{'banana', 'cherry', 'apple'}\n"
     ]
    }
   ],
   "source": [
    "x.union(y)\n",
    "print(x)"
   ]
  },
  {
   "cell_type": "code",
   "execution_count": null,
   "id": "984b8004",
   "metadata": {},
   "outputs": [],
   "source": []
  },
  {
   "cell_type": "markdown",
   "id": "9eef82aa",
   "metadata": {},
   "source": [
    "# Python dictionary\n",
    "- Dictionaries are used to store data values in key:value pairs.\n",
    "\n",
    "- A dictionary is a collection which is ordered*, changeable and do not allow duplicates."
   ]
  },
  {
   "cell_type": "code",
   "execution_count": 316,
   "id": "6037762d",
   "metadata": {},
   "outputs": [
    {
     "name": "stdout",
     "output_type": "stream",
     "text": [
      "{'brand': 'ford', 'model': 'Mustang', 'year': 1965}\n"
     ]
    }
   ],
   "source": [
    "thisdict={\"brand\":\"ford\",\n",
    "         \"model\":\"Mustang\",\n",
    "         \"year\":1965}\n",
    "print(thisdict)"
   ]
  },
  {
   "cell_type": "code",
   "execution_count": 317,
   "id": "8e7ce5ec",
   "metadata": {},
   "outputs": [
    {
     "name": "stdout",
     "output_type": "stream",
     "text": [
      "ford\n"
     ]
    }
   ],
   "source": [
    "# print the \"brand\" value of the dictionary\n",
    "print(thisdict[\"brand\"])"
   ]
  },
  {
   "cell_type": "code",
   "execution_count": 319,
   "id": "37f662b6",
   "metadata": {},
   "outputs": [
    {
     "name": "stdout",
     "output_type": "stream",
     "text": [
      "Mustang\n"
     ]
    }
   ],
   "source": [
    "#print the \"model\" value of the dictionary\n",
    "\n",
    "print(thisdict['model'])"
   ]
  },
  {
   "cell_type": "markdown",
   "id": "3af4c7c7",
   "metadata": {},
   "source": [
    "- ordered or unordered\n",
    "- changeable\n",
    "- Duplicates not allowed"
   ]
  },
  {
   "cell_type": "code",
   "execution_count": 320,
   "id": "f784c4f6",
   "metadata": {},
   "outputs": [
    {
     "name": "stdout",
     "output_type": "stream",
     "text": [
      "3\n"
     ]
    }
   ],
   "source": [
    "# Length\n",
    "print(len(thisdict))"
   ]
  },
  {
   "cell_type": "code",
   "execution_count": 322,
   "id": "74a49cf3",
   "metadata": {},
   "outputs": [
    {
     "name": "stdout",
     "output_type": "stream",
     "text": [
      "{'brand': 'Tata', 'model': 'Nexon', 'electric': 'yes', 'year': 2022, 'colors': ['white', 'blue', 'black']}\n"
     ]
    }
   ],
   "source": [
    "# Dictionary items-Data types\n",
    "thisdict={\n",
    "    \"brand\":\"Tata\",\n",
    "    \"model\":\"Nexon\",\n",
    "    \"electric\":\"yes\",\n",
    "    \"year\":2022,\n",
    "    \"colors\":[\"white\",\"blue\",\"black\"]\n",
    "}\n",
    "\n",
    "print(thisdict)"
   ]
  },
  {
   "cell_type": "code",
   "execution_count": 325,
   "id": "cf99d885",
   "metadata": {},
   "outputs": [
    {
     "name": "stdout",
     "output_type": "stream",
     "text": [
      "Tata\n"
     ]
    }
   ],
   "source": [
    "print(thisdict['brand'])"
   ]
  },
  {
   "cell_type": "code",
   "execution_count": 327,
   "id": "a90c694e",
   "metadata": {},
   "outputs": [
    {
     "data": {
      "text/plain": [
       "'Nexon'"
      ]
     },
     "execution_count": 327,
     "metadata": {},
     "output_type": "execute_result"
    }
   ],
   "source": [
    "# get() can also be used\n",
    "thisdict.get(\"model\")"
   ]
  },
  {
   "cell_type": "code",
   "execution_count": 329,
   "id": "5fd444f2",
   "metadata": {},
   "outputs": [
    {
     "data": {
      "text/plain": [
       "dict_keys(['brand', 'model', 'electric', 'year', 'colors'])"
      ]
     },
     "execution_count": 329,
     "metadata": {},
     "output_type": "execute_result"
    }
   ],
   "source": [
    "# The keys() method will return a list of all the keys in the dictionary\n",
    "x=thisdict.keys()\n",
    "x"
   ]
  },
  {
   "cell_type": "code",
   "execution_count": 331,
   "id": "d9fe8b51",
   "metadata": {},
   "outputs": [
    {
     "data": {
      "text/plain": [
       "dict_values(['Tata', 'Nexon', 'yes', 2022, ['white', 'blue', 'black']])"
      ]
     },
     "execution_count": 331,
     "metadata": {},
     "output_type": "execute_result"
    }
   ],
   "source": [
    "# get values\n",
    "y=thisdict.values()\n",
    "y"
   ]
  },
  {
   "cell_type": "code",
   "execution_count": 332,
   "id": "35375692",
   "metadata": {},
   "outputs": [
    {
     "data": {
      "text/plain": [
       "dict_items([('brand', 'Tata'), ('model', 'Nexon'), ('electric', 'yes'), ('year', 2022), ('colors', ['white', 'blue', 'black'])])"
      ]
     },
     "execution_count": 332,
     "metadata": {},
     "output_type": "execute_result"
    }
   ],
   "source": [
    "# get items\n",
    "z=thisdict.items()\n",
    "z"
   ]
  },
  {
   "cell_type": "code",
   "execution_count": null,
   "id": "2ae45a90",
   "metadata": {},
   "outputs": [],
   "source": []
  },
  {
   "cell_type": "code",
   "execution_count": 333,
   "id": "aff8e1fe",
   "metadata": {},
   "outputs": [
    {
     "name": "stdout",
     "output_type": "stream",
     "text": [
      "yes, 'model' is one of the keys in the thisdict dictionary\n"
     ]
    }
   ],
   "source": [
    "# Check if key exists\n",
    "thisdict={\"brand\":\"apple\",\n",
    "          \"model\":\"iphone14\",\n",
    "          \"year\":\"2022\",\n",
    "          \"color\":\"white\"\n",
    "         }\n",
    "\n",
    "if \"model\" in thisdict:\n",
    "    print(\"yes, 'model' is one of the keys in the thisdict dictionary\")"
   ]
  },
  {
   "cell_type": "code",
   "execution_count": 335,
   "id": "395b3161",
   "metadata": {},
   "outputs": [
    {
     "name": "stdout",
     "output_type": "stream",
     "text": [
      "No, this key is not in the thisdict dictionary\n"
     ]
    }
   ],
   "source": [
    "# Check if key exists\n",
    "thisdict={\"brand\":\"apple\",\n",
    "          \"model\":\"iphone14\",\n",
    "          \"year\":\"2022\",\n",
    "          \"color\":\"white\"\n",
    "         }\n",
    "\n",
    "if \"launch_date\" in thisdict:\n",
    "    print(\"yes, 'launch_date' is one of the keys in the thisdict dictionary\")\n",
    "else:\n",
    "    print(\"No, this key is not in the thisdict dictionary\")"
   ]
  },
  {
   "cell_type": "code",
   "execution_count": 336,
   "id": "15e5e067",
   "metadata": {},
   "outputs": [
    {
     "name": "stdout",
     "output_type": "stream",
     "text": [
      "{'movie_name': 'kgf2', 'language': 'kannada', 'release_year': 2021}\n"
     ]
    }
   ],
   "source": [
    "# Change values\n",
    "thisdict={\n",
    "    \"movie_name\":\"kgf2\",\n",
    "    \"language\":'kannada',\n",
    "    \"release_year\":2021\n",
    "}\n",
    "print(thisdict)"
   ]
  },
  {
   "cell_type": "code",
   "execution_count": 338,
   "id": "62b2396a",
   "metadata": {},
   "outputs": [
    {
     "name": "stdout",
     "output_type": "stream",
     "text": [
      "{'movie_name': 'kgf2', 'language': 'kannada', 'release_year': 2022}\n"
     ]
    }
   ],
   "source": [
    "thisdict['release_year']=2022\n",
    "print(thisdict)"
   ]
  },
  {
   "cell_type": "code",
   "execution_count": 339,
   "id": "d7fc5276",
   "metadata": {},
   "outputs": [
    {
     "data": {
      "text/plain": [
       "{'movie_name': 'kgf2', 'language': 'kannada', 'release_year': 2022}"
      ]
     },
     "execution_count": 339,
     "metadata": {},
     "output_type": "execute_result"
    }
   ],
   "source": [
    "# update dictionary\n",
    "thisdict"
   ]
  },
  {
   "cell_type": "code",
   "execution_count": 340,
   "id": "d4c0fdf2",
   "metadata": {},
   "outputs": [
    {
     "name": "stdout",
     "output_type": "stream",
     "text": [
      "{'movie_name': 'kgf2', 'language': 'Hindi', 'release_year': 2022}\n"
     ]
    }
   ],
   "source": [
    "thisdict.update({'language':\"Hindi\"})\n",
    "print(thisdict)"
   ]
  },
  {
   "cell_type": "code",
   "execution_count": 341,
   "id": "a082fd94",
   "metadata": {},
   "outputs": [
    {
     "data": {
      "text/plain": [
       "{'movie_name': 'kgf2', 'language': 'Hindi', 'release_year': 2022}"
      ]
     },
     "execution_count": 341,
     "metadata": {},
     "output_type": "execute_result"
    }
   ],
   "source": [
    "# adding items\n",
    "thisdict"
   ]
  },
  {
   "cell_type": "code",
   "execution_count": 342,
   "id": "2ff1471b",
   "metadata": {},
   "outputs": [
    {
     "data": {
      "text/plain": [
       "{'movie_name': 'kgf2',\n",
       " 'language': 'Hindi',\n",
       " 'release_year': 2022,\n",
       " 'country': 'India'}"
      ]
     },
     "execution_count": 342,
     "metadata": {},
     "output_type": "execute_result"
    }
   ],
   "source": [
    "thisdict['country']='India'\n",
    "thisdict"
   ]
  },
  {
   "cell_type": "code",
   "execution_count": 343,
   "id": "211a6905",
   "metadata": {},
   "outputs": [
    {
     "name": "stdout",
     "output_type": "stream",
     "text": [
      "{'movie_name': 'kgf2', 'language': 'Hindi', 'release_year': 2022, 'country': 'India'}\n"
     ]
    }
   ],
   "source": [
    "print(thisdict)"
   ]
  },
  {
   "cell_type": "code",
   "execution_count": 344,
   "id": "b96cde31",
   "metadata": {},
   "outputs": [
    {
     "data": {
      "text/plain": [
       "{'movie_name': 'kgf2', 'release_year': 2022, 'country': 'India'}"
      ]
     },
     "execution_count": 344,
     "metadata": {},
     "output_type": "execute_result"
    }
   ],
   "source": [
    "# Removing items\n",
    "thisdict.pop(\"language\")\n",
    "thisdict"
   ]
  },
  {
   "cell_type": "code",
   "execution_count": 346,
   "id": "a47c60da",
   "metadata": {},
   "outputs": [
    {
     "data": {
      "text/plain": [
       "{'movie_name': 'kgf2', 'release_year': 2022, 'country': 'India'}"
      ]
     },
     "execution_count": 346,
     "metadata": {},
     "output_type": "execute_result"
    }
   ],
   "source": [
    "#the clear() method empties the dictionary\n",
    "thisdict"
   ]
  },
  {
   "cell_type": "code",
   "execution_count": 347,
   "id": "fc953a64",
   "metadata": {},
   "outputs": [],
   "source": [
    "thisdict.clear()"
   ]
  },
  {
   "cell_type": "code",
   "execution_count": 349,
   "id": "19c6d07d",
   "metadata": {},
   "outputs": [
    {
     "name": "stdout",
     "output_type": "stream",
     "text": [
      "{}\n"
     ]
    }
   ],
   "source": [
    "print(thisdict)"
   ]
  },
  {
   "cell_type": "code",
   "execution_count": 350,
   "id": "f250e050",
   "metadata": {},
   "outputs": [
    {
     "name": "stdout",
     "output_type": "stream",
     "text": [
      "{'brand': 'Tata', 'model': 'Nexon', 'electric': 'yes', 'year': 2022, 'colors': ['white', 'blue', 'black']}\n"
     ]
    }
   ],
   "source": [
    "# Loop through a dictionary\n",
    "thisdict={\n",
    "    \"brand\":\"Tata\",\n",
    "    \"model\":\"Nexon\",\n",
    "    \"electric\":\"yes\",\n",
    "    \"year\":2022,\n",
    "    \"colors\":[\"white\",\"blue\",\"black\"]\n",
    "}\n",
    "\n",
    "print(thisdict)"
   ]
  },
  {
   "cell_type": "code",
   "execution_count": 352,
   "id": "7b777619",
   "metadata": {},
   "outputs": [
    {
     "name": "stdout",
     "output_type": "stream",
     "text": [
      "brand\n",
      "model\n",
      "electric\n",
      "year\n",
      "colors\n"
     ]
    }
   ],
   "source": [
    "# print all key names in the dictionary ,one by one:\n",
    "for x in thisdict:\n",
    "    print(x)"
   ]
  },
  {
   "cell_type": "code",
   "execution_count": 353,
   "id": "8076fa5c",
   "metadata": {},
   "outputs": [
    {
     "name": "stdout",
     "output_type": "stream",
     "text": [
      "Tata\n",
      "Nexon\n",
      "yes\n",
      "2022\n",
      "['white', 'blue', 'black']\n"
     ]
    }
   ],
   "source": [
    "# print all values in the dictionary ,one by one:\n",
    "for x in thisdict:\n",
    "    print(thisdict[x])"
   ]
  },
  {
   "cell_type": "code",
   "execution_count": 354,
   "id": "be466b45",
   "metadata": {},
   "outputs": [
    {
     "name": "stdout",
     "output_type": "stream",
     "text": [
      "brand\n",
      "model\n",
      "electric\n",
      "year\n",
      "colors\n"
     ]
    }
   ],
   "source": [
    "for x in thisdict.keys():\n",
    "    print(x)"
   ]
  },
  {
   "cell_type": "code",
   "execution_count": 355,
   "id": "fbfea100",
   "metadata": {},
   "outputs": [
    {
     "name": "stdout",
     "output_type": "stream",
     "text": [
      "brand Tata\n",
      "model Nexon\n",
      "electric yes\n",
      "year 2022\n",
      "colors ['white', 'blue', 'black']\n"
     ]
    }
   ],
   "source": [
    "for x,y in thisdict.items():\n",
    "    print(x,y)"
   ]
  },
  {
   "cell_type": "code",
   "execution_count": 356,
   "id": "49c8d637",
   "metadata": {},
   "outputs": [
    {
     "data": {
      "text/plain": [
       "{'brand': 'Tata',\n",
       " 'model': 'Nexon',\n",
       " 'electric': 'yes',\n",
       " 'year': 2022,\n",
       " 'colors': ['white', 'blue', 'black']}"
      ]
     },
     "execution_count": 356,
     "metadata": {},
     "output_type": "execute_result"
    }
   ],
   "source": [
    "thisdict\n"
   ]
  },
  {
   "cell_type": "code",
   "execution_count": 357,
   "id": "b334e301",
   "metadata": {},
   "outputs": [
    {
     "name": "stdout",
     "output_type": "stream",
     "text": [
      "{'brand': 'Tata', 'model': 'Nexon', 'electric': 'yes', 'year': 2022, 'colors': ['white', 'blue', 'black']}\n"
     ]
    }
   ],
   "source": [
    "# Copy\n",
    "mydict=thisdict.copy()\n",
    "print(mydict)"
   ]
  },
  {
   "cell_type": "code",
   "execution_count": 358,
   "id": "791c4f97",
   "metadata": {},
   "outputs": [
    {
     "name": "stdout",
     "output_type": "stream",
     "text": [
      "{'brand': 'Tata', 'model': 'Nexon', 'electric': 'yes', 'year': 2022, 'colors': ['white', 'blue', 'black']}\n"
     ]
    }
   ],
   "source": [
    "# or by dict() function\n",
    "dict2=dict(thisdict)\n",
    "print(dict2)"
   ]
  },
  {
   "cell_type": "code",
   "execution_count": 364,
   "id": "5c38ef12",
   "metadata": {},
   "outputs": [],
   "source": [
    "# Create a dictionary that contain three dictionaries:\n",
    "# Nested dictionary\n",
    "employee={\n",
    "    \"employee1\":{\n",
    "    \"Name\":\"jhon\",\n",
    "    \"emp_id\":\"cv325\",\n",
    "    \"department\":\"sells\"\n",
    "     },\n",
    "    \"employee2\":{\n",
    "        \"Name\":\"izhar\",\n",
    "        \"emp_id\":\"cv256\",\n",
    "        \"department\":\"Dataware_house\"\n",
    "    },\n",
    "    \"employee3\":{\n",
    "        \"Name\":\"Saumit\",\n",
    "        \"emp_id\":\"cv653\",\n",
    "        \"department\":\"Dataware_house\"\n",
    "    }\n",
    "}"
   ]
  },
  {
   "cell_type": "code",
   "execution_count": 365,
   "id": "0cf87d39",
   "metadata": {},
   "outputs": [
    {
     "data": {
      "text/plain": [
       "{'employee1': {'Name': 'jhon', 'emp_id': 'cv325', 'department': 'sells'},\n",
       " 'employee2': {'Name': 'izhar',\n",
       "  'emp_id': 'cv256',\n",
       "  'department': 'Dataware_house'},\n",
       " 'employee3': {'Name': 'Saumit',\n",
       "  'emp_id': 'cv653',\n",
       "  'department': 'Dataware_house'}}"
      ]
     },
     "execution_count": 365,
     "metadata": {},
     "output_type": "execute_result"
    }
   ],
   "source": [
    "employee"
   ]
  },
  {
   "cell_type": "code",
   "execution_count": null,
   "id": "16c6c169",
   "metadata": {},
   "outputs": [],
   "source": []
  },
  {
   "cell_type": "code",
   "execution_count": null,
   "id": "836625ae",
   "metadata": {},
   "outputs": [],
   "source": [
    "# Python conditions and if statements"
   ]
  },
  {
   "cell_type": "code",
   "execution_count": 366,
   "id": "62e3f704",
   "metadata": {},
   "outputs": [
    {
     "name": "stdout",
     "output_type": "stream",
     "text": [
      "b is greater than a\n"
     ]
    }
   ],
   "source": [
    "a=24\n",
    "b=98\n",
    "if b>a:\n",
    "    print(\"b is greater than a\")"
   ]
  },
  {
   "cell_type": "code",
   "execution_count": 371,
   "id": "31813ce4",
   "metadata": {},
   "outputs": [
    {
     "name": "stdout",
     "output_type": "stream",
     "text": [
      "a and b are equal\n"
     ]
    }
   ],
   "source": [
    "a=34\n",
    "b=34\n",
    "if b>a:\n",
    "    print(\"b is greater than a\")\n",
    "elif a==b:\n",
    "    print(\"a and b are equal\")"
   ]
  },
  {
   "cell_type": "code",
   "execution_count": 380,
   "id": "6a96dc85",
   "metadata": {},
   "outputs": [
    {
     "name": "stdout",
     "output_type": "stream",
     "text": [
      "a is greater than b\n"
     ]
    }
   ],
   "source": [
    "a=34\n",
    "b=30\n",
    "if b>a:\n",
    "    print(\"b is greater than a\")\n",
    "elif a==b:\n",
    "        print(\"a and b are equal\")\n",
    "else:\n",
    "    print(\"a is greater than b\")"
   ]
  },
  {
   "cell_type": "code",
   "execution_count": 381,
   "id": "dd320a05",
   "metadata": {},
   "outputs": [
    {
     "name": "stdout",
     "output_type": "stream",
     "text": [
      "a is greater than b\n"
     ]
    }
   ],
   "source": [
    "if a>b: print(\"a is greater than b\")"
   ]
  },
  {
   "cell_type": "code",
   "execution_count": 382,
   "id": "7a0d7022",
   "metadata": {},
   "outputs": [
    {
     "name": "stdout",
     "output_type": "stream",
     "text": [
      "B\n"
     ]
    }
   ],
   "source": [
    "# short hand\n",
    "a=2\n",
    "b=32\n",
    "print(\"A\") if a> b else print(\"B\")"
   ]
  },
  {
   "cell_type": "code",
   "execution_count": 384,
   "id": "98c2c98c",
   "metadata": {},
   "outputs": [
    {
     "name": "stdout",
     "output_type": "stream",
     "text": [
      "=\n"
     ]
    }
   ],
   "source": [
    "a=10\n",
    "b=10\n",
    "print(\"A\") if a>b else print(\"=\") if a==b else print(\"B\")"
   ]
  },
  {
   "cell_type": "code",
   "execution_count": 386,
   "id": "ebbc1bab",
   "metadata": {},
   "outputs": [
    {
     "name": "stdout",
     "output_type": "stream",
     "text": [
      "no\n"
     ]
    }
   ],
   "source": [
    "# And\n",
    "a=89\n",
    "b=98\n",
    "c=78\n",
    "if a>b and c>a:\n",
    "    print(\"both conditions are true\")\n",
    "else:\n",
    "    print(\"no\")"
   ]
  },
  {
   "cell_type": "code",
   "execution_count": 389,
   "id": "2e5b9fe5",
   "metadata": {},
   "outputs": [
    {
     "name": "stdout",
     "output_type": "stream",
     "text": [
      "atleast one conditions is true\n"
     ]
    }
   ],
   "source": [
    "a=89\n",
    "b=58\n",
    "c=78\n",
    "if a>b or c>a:\n",
    "    print(\"atleast one conditions is true\")\n",
    "else:\n",
    "    print(\"None\")"
   ]
  },
  {
   "cell_type": "code",
   "execution_count": 392,
   "id": "b3049eaa",
   "metadata": {},
   "outputs": [
    {
     "name": "stdout",
     "output_type": "stream",
     "text": [
      "above ten,\n",
      "and also above 20!\n"
     ]
    }
   ],
   "source": [
    "# Nested if\n",
    "\n",
    "x=55\n",
    "if x>10:\n",
    "    print(\"above ten,\")\n",
    "    if x>20:\n",
    "        print(\"and also above 20!\")\n",
    "    else:\n",
    "        print(\"but not above 20.\")"
   ]
  },
  {
   "cell_type": "code",
   "execution_count": 393,
   "id": "c2684125",
   "metadata": {},
   "outputs": [],
   "source": [
    "# The pass statement\n",
    "a=90\n",
    "b=99\n",
    "if b>a:\n",
    "    pass"
   ]
  },
  {
   "cell_type": "code",
   "execution_count": 397,
   "id": "f18b7c25",
   "metadata": {},
   "outputs": [
    {
     "name": "stdout",
     "output_type": "stream",
     "text": [
      "1\n"
     ]
    }
   ],
   "source": [
    "# Python loops\n",
    "\n",
    "## while loop\n",
    "\n",
    "i=1\n",
    "while i<6:\n",
    "    print(i)\n",
    "    i+=6"
   ]
  },
  {
   "cell_type": "code",
   "execution_count": 398,
   "id": "adfd61c0",
   "metadata": {},
   "outputs": [
    {
     "name": "stdout",
     "output_type": "stream",
     "text": [
      "1\n",
      "2\n",
      "3\n"
     ]
    }
   ],
   "source": [
    "# The break statement\n",
    "i=1\n",
    "while i<6:\n",
    "    print(i)\n",
    "    if i ==3:\n",
    "        break\n",
    "    i +=1"
   ]
  },
  {
   "cell_type": "code",
   "execution_count": 399,
   "id": "0bc5ae55",
   "metadata": {},
   "outputs": [
    {
     "name": "stdout",
     "output_type": "stream",
     "text": [
      "1\n",
      "2\n",
      "4\n",
      "5\n",
      "6\n"
     ]
    }
   ],
   "source": [
    "# the continue statement\n",
    "i=0\n",
    "while i<6:\n",
    "    i +=1\n",
    "    if i==3:\n",
    "        continue\n",
    "    print(i)"
   ]
  },
  {
   "cell_type": "code",
   "execution_count": 400,
   "id": "2b763895",
   "metadata": {},
   "outputs": [
    {
     "name": "stdout",
     "output_type": "stream",
     "text": [
      "1\n",
      "2\n",
      "3\n",
      "4\n",
      "5\n",
      " i is no longer less than 6\n"
     ]
    }
   ],
   "source": [
    "# The else statement\n",
    "i=1\n",
    "while i<6:\n",
    "    print(i)\n",
    "    i +=1\n",
    "else:\n",
    "    print(\" i is no longer less than 6\")"
   ]
  },
  {
   "cell_type": "code",
   "execution_count": 401,
   "id": "e7a855d9",
   "metadata": {},
   "outputs": [
    {
     "name": "stdout",
     "output_type": "stream",
     "text": [
      "Mutual_fund\n",
      "sip\n",
      "stock\n",
      "crypto\n",
      "FD\n"
     ]
    }
   ],
   "source": [
    "# For loops\n",
    "finance=[\"Mutual_fund\",\"sip\",\"stock\",\"crypto\",\"FD\"]\n",
    "for x in finance:\n",
    "    print(x)"
   ]
  },
  {
   "cell_type": "code",
   "execution_count": 403,
   "id": "1f07875d",
   "metadata": {},
   "outputs": [
    {
     "name": "stdout",
     "output_type": "stream",
     "text": [
      "Mutual_fund\n",
      "sip\n",
      "stock\n",
      "crypto\n"
     ]
    }
   ],
   "source": [
    "# the break statement\n",
    "for x in finance:\n",
    "    print(x)\n",
    "    if x ==\"crypto\":\n",
    "        break"
   ]
  },
  {
   "cell_type": "code",
   "execution_count": 406,
   "id": "6c2b3985",
   "metadata": {},
   "outputs": [
    {
     "name": "stdout",
     "output_type": "stream",
     "text": [
      "Mutual_fund\n",
      "stock\n",
      "crypto\n",
      "FD\n"
     ]
    }
   ],
   "source": [
    "for x in finance:\n",
    "    if x==\"sip\": \n",
    "        continue\n",
    "    print(x)"
   ]
  },
  {
   "cell_type": "code",
   "execution_count": 407,
   "id": "1db898ca",
   "metadata": {},
   "outputs": [
    {
     "name": "stdout",
     "output_type": "stream",
     "text": [
      "0\n",
      "1\n",
      "2\n",
      "3\n",
      "4\n",
      "5\n"
     ]
    }
   ],
   "source": [
    "# the range function\n",
    "for x in range(6):\n",
    "    print(x)"
   ]
  },
  {
   "cell_type": "code",
   "execution_count": 408,
   "id": "ba5a129b",
   "metadata": {},
   "outputs": [
    {
     "name": "stdout",
     "output_type": "stream",
     "text": [
      "2\n",
      "3\n",
      "4\n",
      "5\n"
     ]
    }
   ],
   "source": [
    "for x in range(2,6):\n",
    "    print(x)"
   ]
  },
  {
   "cell_type": "code",
   "execution_count": 409,
   "id": "8cf9fd1b",
   "metadata": {},
   "outputs": [
    {
     "name": "stdout",
     "output_type": "stream",
     "text": [
      "2\n",
      "5\n",
      "8\n",
      "11\n",
      "14\n",
      "17\n",
      "20\n",
      "23\n",
      "26\n",
      "29\n"
     ]
    }
   ],
   "source": [
    "for x in range(2,30,3):\n",
    "    print(x)"
   ]
  },
  {
   "cell_type": "code",
   "execution_count": 410,
   "id": "4695932b",
   "metadata": {},
   "outputs": [
    {
     "name": "stdout",
     "output_type": "stream",
     "text": [
      "0\n",
      "1\n",
      "2\n",
      "3\n",
      "4\n",
      "5\n",
      "Finally finished!\n"
     ]
    }
   ],
   "source": [
    "# Else in for loop\n",
    "for x in range(6):\n",
    "    print(x)\n",
    "else:\n",
    "    print(\"Finally finished!\")"
   ]
  },
  {
   "cell_type": "code",
   "execution_count": 413,
   "id": "75ecb992",
   "metadata": {},
   "outputs": [
    {
     "name": "stdout",
     "output_type": "stream",
     "text": [
      "0\n",
      "1\n",
      "2\n"
     ]
    }
   ],
   "source": [
    "for x in range(6):\n",
    "    if x ==3:break\n",
    "    print(x)\n",
    "else:\n",
    "        print(\"Finally finished\")"
   ]
  },
  {
   "cell_type": "code",
   "execution_count": 414,
   "id": "5d3ec85f",
   "metadata": {},
   "outputs": [
    {
     "name": "stdout",
     "output_type": "stream",
     "text": [
      "red apple\n",
      "red banana\n",
      "red cherry\n",
      "big apple\n",
      "big banana\n",
      "big cherry\n",
      "tasty apple\n",
      "tasty banana\n",
      "tasty cherry\n"
     ]
    }
   ],
   "source": [
    "# NESTED LOOPS\n",
    "adj=[\"red\",\"big\",\"tasty\"]\n",
    "fruits=[\"apple\",\"banana\",\"cherry\"]\n",
    "for x in adj:\n",
    "    for y in fruits:\n",
    "        print(x,y)"
   ]
  },
  {
   "cell_type": "code",
   "execution_count": 415,
   "id": "eb5c0a43",
   "metadata": {},
   "outputs": [],
   "source": [
    "# the pass statements\n",
    "for x in [0,1,2]:\n",
    "    pass"
   ]
  },
  {
   "cell_type": "code",
   "execution_count": 418,
   "id": "8bb325e5",
   "metadata": {},
   "outputs": [
    {
     "name": "stdout",
     "output_type": "stream",
     "text": [
      "hello from a function\n"
     ]
    }
   ],
   "source": [
    "# Creating a function\n",
    "def my_function():\n",
    "    print(\"hello from a function\")\n",
    "my_function()"
   ]
  },
  {
   "cell_type": "code",
   "execution_count": 421,
   "id": "161219e8",
   "metadata": {},
   "outputs": [
    {
     "name": "stdout",
     "output_type": "stream",
     "text": [
      "Emil  Refsnes\n",
      "Tobias  Refsnes\n",
      "Linus  Refsnes\n"
     ]
    }
   ],
   "source": [
    "# Argument\n",
    "def my_function(fname):\n",
    "    print(fname+ \" \",\"Refsnes\")\n",
    "\n",
    "my_function(\"Emil\")\n",
    "my_function(\"Tobias\")\n",
    "my_function(\"Linus\")"
   ]
  },
  {
   "cell_type": "code",
   "execution_count": 422,
   "id": "26be7b17",
   "metadata": {},
   "outputs": [
    {
     "name": "stdout",
     "output_type": "stream",
     "text": [
      "Emil Refsnes\n"
     ]
    }
   ],
   "source": [
    "# Number of arguments\n",
    "def my_function(fname,lname):\n",
    "    print(fname+ \" \"+ lname)\n",
    "my_function(\"Emil\",\"Refsnes\")"
   ]
  },
  {
   "cell_type": "code",
   "execution_count": 424,
   "id": "35c82561",
   "metadata": {},
   "outputs": [
    {
     "ename": "TypeError",
     "evalue": "my_function() missing 1 required positional argument: 'lname'",
     "output_type": "error",
     "traceback": [
      "\u001b[1;31m---------------------------------------------------------------------------\u001b[0m",
      "\u001b[1;31mTypeError\u001b[0m                                 Traceback (most recent call last)",
      "Input \u001b[1;32mIn [424]\u001b[0m, in \u001b[0;36m<cell line: 2>\u001b[1;34m()\u001b[0m\n\u001b[0;32m      1\u001b[0m \u001b[38;5;66;03m#By default, a function must be called with the correct number of arguments. Meaning that if your function expects 2 arguments, you have to call the function with 2 arguments, not more, and not less.\u001b[39;00m\n\u001b[1;32m----> 2\u001b[0m \u001b[43mmy_function\u001b[49m\u001b[43m(\u001b[49m\u001b[38;5;124;43m\"\u001b[39;49m\u001b[38;5;124;43mEmil\u001b[39;49m\u001b[38;5;124;43m\"\u001b[39;49m\u001b[43m)\u001b[49m\n",
      "\u001b[1;31mTypeError\u001b[0m: my_function() missing 1 required positional argument: 'lname'"
     ]
    }
   ],
   "source": [
    "#By default, a function must be called with the correct number of arguments. Meaning that if your function expects 2 arguments, you have to call the function with 2 arguments, not more, and not less.\n",
    "my_function(\"Emil\")"
   ]
  },
  {
   "cell_type": "code",
   "execution_count": 425,
   "id": "90daef6f",
   "metadata": {},
   "outputs": [
    {
     "name": "stdout",
     "output_type": "stream",
     "text": [
      "The youngest child is Linus\n"
     ]
    }
   ],
   "source": [
    "# Arbitrary arguments ,*args\n",
    "#If the number of arguments is unknown, add a * before the parameter name:\n",
    "\n",
    "def my_function(*kids):\n",
    "    print(\"The youngest child is \"+ kids[2])\n",
    "    \n",
    "my_function(\"Emil\",\"Tobias\",\"Linus\")"
   ]
  },
  {
   "cell_type": "code",
   "execution_count": 426,
   "id": "913d99c5",
   "metadata": {},
   "outputs": [
    {
     "name": "stdout",
     "output_type": "stream",
     "text": [
      "The youngest child is Linus\n"
     ]
    }
   ],
   "source": [
    "# Keyword arguments\n",
    "# You can also send arguments with the key=value syntax\n",
    "\n",
    "def my_function(child3,child2,child1):\n",
    "    print(\"The youngest child is \"+ child3)\n",
    "    \n",
    "my_function(child1=\"Emil\",child2=\"Tobias\",child3=\"Linus\")"
   ]
  },
  {
   "cell_type": "code",
   "execution_count": 427,
   "id": "25c2ac0a",
   "metadata": {},
   "outputs": [
    {
     "name": "stdout",
     "output_type": "stream",
     "text": [
      "His last name isRefsnes\n"
     ]
    }
   ],
   "source": [
    "# Arbirary keyword arguments\n",
    "\n",
    "def my_function(**kid):\n",
    "    print(\"His last name is\"+kid[\"lname\"])\n",
    "    \n",
    "my_function(fname=\"Tobias\",lname=\"Refsnes\")"
   ]
  },
  {
   "cell_type": "code",
   "execution_count": 428,
   "id": "e5d6bb7a",
   "metadata": {},
   "outputs": [
    {
     "name": "stdout",
     "output_type": "stream",
     "text": [
      "I am from sweden\n",
      "I am from India\n",
      "I am from Norway\n",
      "I am from Brazil\n"
     ]
    }
   ],
   "source": [
    "# Default parameter value\n",
    "\n",
    "def my_function(country=\"Norway\"):\n",
    "    print(\"I am from \"+country)\n",
    "    \n",
    "my_function(\"sweden\")\n",
    "my_function(\"India\")\n",
    "my_function()\n",
    "my_function(\"Brazil\")"
   ]
  },
  {
   "cell_type": "code",
   "execution_count": 429,
   "id": "bde7281b",
   "metadata": {},
   "outputs": [
    {
     "name": "stdout",
     "output_type": "stream",
     "text": [
      "apple\n",
      "banana\n",
      "cherry\n"
     ]
    }
   ],
   "source": [
    "# Passing a list as an argument\n",
    "def my_function(food):\n",
    "    for x in food:\n",
    "        print(x)\n",
    "        \n",
    "fruits=[\"apple\",\"banana\",\"cherry\"]\n",
    "my_function(fruits)"
   ]
  },
  {
   "cell_type": "code",
   "execution_count": 432,
   "id": "cf16806c",
   "metadata": {},
   "outputs": [
    {
     "name": "stdout",
     "output_type": "stream",
     "text": [
      "15\n",
      "35\n",
      "45\n"
     ]
    }
   ],
   "source": [
    "# Return values\n",
    "def my_function(x):\n",
    "    return 5 * x\n",
    "print(my_function(3))\n",
    "print(my_function(7))\n",
    "print(my_function(9))"
   ]
  },
  {
   "cell_type": "code",
   "execution_count": 433,
   "id": "3b697a20",
   "metadata": {},
   "outputs": [],
   "source": [
    "#The pass Statement\n",
    "# function definitions cannot be empty, but if you for some reason have a function definition with no content, put in the pass statement to avoid getting an error.\n",
    "\n",
    "def myfunction():\n",
    "    pass\n"
   ]
  },
  {
   "cell_type": "code",
   "execution_count": 435,
   "id": "ba596574",
   "metadata": {},
   "outputs": [
    {
     "name": "stdout",
     "output_type": "stream",
     "text": [
      "\n",
      "\n",
      "Recursion example results\n",
      "1\n",
      "3\n",
      "6\n",
      "10\n",
      "15\n",
      "21\n"
     ]
    },
    {
     "data": {
      "text/plain": [
       "21"
      ]
     },
     "execution_count": 435,
     "metadata": {},
     "output_type": "execute_result"
    }
   ],
   "source": [
    "# Recursion\n",
    "# Python also accepts function recursion, which means a defined function can call itself.\n",
    "\n",
    "def tri_recursion(k):\n",
    "    if (k>0):\n",
    "        result=k+tri_recursion(k-1)\n",
    "        print(result)\n",
    "    else:\n",
    "        result=0\n",
    "    return result\n",
    "\n",
    "print(\"\\n\\nRecursion example results\")\n",
    "tri_recursion(6)"
   ]
  },
  {
   "cell_type": "markdown",
   "id": "4ccdf1ff",
   "metadata": {},
   "source": [
    "# Python lambda\n",
    "- A lambda function is a small anonymous function.\n",
    "- A lambda function can take any number of arguments, but can only have one expression"
   ]
  },
  {
   "cell_type": "code",
   "execution_count": null,
   "id": "646a55f7",
   "metadata": {},
   "outputs": [],
   "source": [
    "# Syntax\n",
    "lambda arguments: expression"
   ]
  },
  {
   "cell_type": "code",
   "execution_count": 436,
   "id": "f2914bd2",
   "metadata": {},
   "outputs": [
    {
     "name": "stdout",
     "output_type": "stream",
     "text": [
      "15\n"
     ]
    }
   ],
   "source": [
    "x=lambda a: a+10\n",
    "print(x(5))"
   ]
  },
  {
   "cell_type": "code",
   "execution_count": 437,
   "id": "c75452bb",
   "metadata": {},
   "outputs": [
    {
     "name": "stdout",
     "output_type": "stream",
     "text": [
      "72\n"
     ]
    }
   ],
   "source": [
    "y=lambda a:a*9\n",
    "print(y(8))"
   ]
  },
  {
   "cell_type": "code",
   "execution_count": 438,
   "id": "68d88f6a",
   "metadata": {},
   "outputs": [
    {
     "name": "stdout",
     "output_type": "stream",
     "text": [
      "30\n"
     ]
    }
   ],
   "source": [
    "x=lambda a,b:a*b\n",
    "print(x(5,6))"
   ]
  },
  {
   "cell_type": "code",
   "execution_count": 439,
   "id": "441bc412",
   "metadata": {},
   "outputs": [
    {
     "name": "stdout",
     "output_type": "stream",
     "text": [
      "45\n"
     ]
    }
   ],
   "source": [
    "x=lambda a,b:a*b\n",
    "print(x(5,9))"
   ]
  },
  {
   "cell_type": "code",
   "execution_count": 440,
   "id": "8ae75e37",
   "metadata": {},
   "outputs": [
    {
     "name": "stdout",
     "output_type": "stream",
     "text": [
      "18\n"
     ]
    }
   ],
   "source": [
    "x=lambda a,b,c:a+b+c\n",
    "print(x(5,6,7))"
   ]
  },
  {
   "cell_type": "code",
   "execution_count": 441,
   "id": "d47b8a62",
   "metadata": {},
   "outputs": [
    {
     "name": "stdout",
     "output_type": "stream",
     "text": [
      "72\n"
     ]
    }
   ],
   "source": [
    "x=lambda a,b,c:a*b*c\n",
    "print(x(9,4,2))"
   ]
  },
  {
   "cell_type": "code",
   "execution_count": 442,
   "id": "1361f6c3",
   "metadata": {},
   "outputs": [],
   "source": [
    "# why use lambda functions?\n",
    "# the power of lambda is better shown when you use them as anonymous function inside another function.\n",
    "\n",
    "def myfunc(n):\n",
    "    return lambda a:a*n"
   ]
  },
  {
   "cell_type": "code",
   "execution_count": 445,
   "id": "52f5cecd",
   "metadata": {},
   "outputs": [
    {
     "name": "stdout",
     "output_type": "stream",
     "text": [
      "<function myfunc.<locals>.<lambda> at 0x0000023C020B60E0>\n"
     ]
    }
   ],
   "source": [
    "print(myfunc(8))"
   ]
  },
  {
   "cell_type": "code",
   "execution_count": 446,
   "id": "f2cbc98b",
   "metadata": {},
   "outputs": [
    {
     "name": "stdout",
     "output_type": "stream",
     "text": [
      "22\n"
     ]
    }
   ],
   "source": [
    "def myfunc(n):\n",
    "    return lambda a:a*n\n",
    "mydoubler =myfunc(2)\n",
    "print(mydoubler(11))"
   ]
  },
  {
   "cell_type": "code",
   "execution_count": 448,
   "id": "5bee1e03",
   "metadata": {},
   "outputs": [
    {
     "name": "stdout",
     "output_type": "stream",
     "text": [
      "55\n"
     ]
    }
   ],
   "source": [
    "def myfunc(n):\n",
    "    return lambda a:a*n\n",
    "mytripler =myfunc(5)\n",
    "print(mytripler(11))"
   ]
  },
  {
   "cell_type": "code",
   "execution_count": 450,
   "id": "d96a4506",
   "metadata": {},
   "outputs": [
    {
     "name": "stdout",
     "output_type": "stream",
     "text": [
      "22\n",
      "55\n"
     ]
    }
   ],
   "source": [
    "def myfunc(n):\n",
    "    return lambda a:a*n\n",
    "mydoubler=myfunc(2)\n",
    "mytripler=myfunc(5)\n",
    "\n",
    "print(mydoubler(11))\n",
    "print(mytripler(11))"
   ]
  },
  {
   "cell_type": "code",
   "execution_count": null,
   "id": "18864c7b",
   "metadata": {},
   "outputs": [],
   "source": [
    "# Python arrays\n",
    "# Python does not have built in support for arrays, but python lists can be used instead.\n"
   ]
  },
  {
   "cell_type": "markdown",
   "id": "ff3a8d71",
   "metadata": {},
   "source": [
    "# Arrays\n",
    "- Arrays are used to store multiple values in one single variable.\n",
    "- An array can hold many values under a single name, and you can access the values by referring to an index number."
   ]
  },
  {
   "cell_type": "code",
   "execution_count": 452,
   "id": "7a8af05d",
   "metadata": {},
   "outputs": [
    {
     "data": {
      "text/plain": [
       "['Ford', 'volvo', 'BMW']"
      ]
     },
     "execution_count": 452,
     "metadata": {},
     "output_type": "execute_result"
    }
   ],
   "source": [
    "# Create an array containing car names:\n",
    "cars=[\"Ford\",\"volvo\",\"BMW\"]\n",
    "cars"
   ]
  },
  {
   "cell_type": "code",
   "execution_count": 453,
   "id": "915c1a61",
   "metadata": {},
   "outputs": [
    {
     "name": "stdout",
     "output_type": "stream",
     "text": [
      "Ford\n",
      "volvo\n",
      "BMW\n"
     ]
    }
   ],
   "source": [
    "for x in cars:\n",
    "    print(x)"
   ]
  },
  {
   "cell_type": "code",
   "execution_count": 454,
   "id": "87b3e50f",
   "metadata": {},
   "outputs": [
    {
     "data": {
      "text/plain": [
       "'Ford'"
      ]
     },
     "execution_count": 454,
     "metadata": {},
     "output_type": "execute_result"
    }
   ],
   "source": [
    "cars[0]"
   ]
  },
  {
   "cell_type": "code",
   "execution_count": 456,
   "id": "2789bf95",
   "metadata": {},
   "outputs": [
    {
     "data": {
      "text/plain": [
       "3"
      ]
     },
     "execution_count": 456,
     "metadata": {},
     "output_type": "execute_result"
    }
   ],
   "source": [
    "x=len(cars)\n",
    "x"
   ]
  },
  {
   "cell_type": "code",
   "execution_count": 458,
   "id": "5b86ed53",
   "metadata": {},
   "outputs": [
    {
     "data": {
      "text/plain": [
       "['Ford', 'volvo', 'BMW', 'Honda', 'Honda']"
      ]
     },
     "execution_count": 458,
     "metadata": {},
     "output_type": "execute_result"
    }
   ],
   "source": [
    "cars.append(\"Honda\")\n",
    "cars"
   ]
  },
  {
   "cell_type": "code",
   "execution_count": 459,
   "id": "1b110a63",
   "metadata": {},
   "outputs": [
    {
     "data": {
      "text/plain": [
       "'volvo'"
      ]
     },
     "execution_count": 459,
     "metadata": {},
     "output_type": "execute_result"
    }
   ],
   "source": [
    "cars.pop(1)"
   ]
  },
  {
   "cell_type": "code",
   "execution_count": 460,
   "id": "ba37c112",
   "metadata": {},
   "outputs": [
    {
     "data": {
      "text/plain": [
       "['Ford', 'BMW', 'Honda', 'Honda']"
      ]
     },
     "execution_count": 460,
     "metadata": {},
     "output_type": "execute_result"
    }
   ],
   "source": [
    "cars"
   ]
  },
  {
   "cell_type": "code",
   "execution_count": 461,
   "id": "63b2eb5d",
   "metadata": {},
   "outputs": [],
   "source": [
    "cars.remove(\"Honda\")"
   ]
  },
  {
   "cell_type": "code",
   "execution_count": 462,
   "id": "b48229d3",
   "metadata": {},
   "outputs": [
    {
     "data": {
      "text/plain": [
       "['Ford', 'BMW', 'Honda']"
      ]
     },
     "execution_count": 462,
     "metadata": {},
     "output_type": "execute_result"
    }
   ],
   "source": [
    "cars"
   ]
  },
  {
   "cell_type": "code",
   "execution_count": null,
   "id": "581e5a6a",
   "metadata": {},
   "outputs": [],
   "source": []
  },
  {
   "cell_type": "markdown",
   "id": "f5dc5f43",
   "metadata": {},
   "source": [
    "#Python classes and objects\n",
    "- python is an object oriented programming language\n",
    "- almost everything in python is an object, with its properties and methods\n",
    "- a class is like an object constructor, or a \"blueprint' for creating objects."
   ]
  },
  {
   "cell_type": "markdown",
   "id": "af076a37",
   "metadata": {},
   "source": [
    "#Create a class\n",
    "- To create a class, use the keyword class:"
   ]
  },
  {
   "cell_type": "code",
   "execution_count": 463,
   "id": "8a4227e1",
   "metadata": {},
   "outputs": [],
   "source": [
    "# Create a class\n",
    "class Myclass:\n",
    "    x=5"
   ]
  },
  {
   "cell_type": "code",
   "execution_count": 464,
   "id": "f22094db",
   "metadata": {},
   "outputs": [
    {
     "name": "stdout",
     "output_type": "stream",
     "text": [
      "5\n"
     ]
    }
   ],
   "source": [
    "# create object\n",
    "p1=Myclass()\n",
    "print(p1.x)"
   ]
  },
  {
   "cell_type": "code",
   "execution_count": 465,
   "id": "ceaeb897",
   "metadata": {},
   "outputs": [
    {
     "name": "stdout",
     "output_type": "stream",
     "text": [
      "John\n",
      "36\n"
     ]
    }
   ],
   "source": [
    "# The __init__() function\n",
    "class Person:\n",
    "    def __init__(self,name,age):\n",
    "        self.name=name\n",
    "        self.age=age\n",
    "        \n",
    "p1=Person(\"John\",36)\n",
    "print(p1.name)\n",
    "print(p1.age)"
   ]
  },
  {
   "cell_type": "code",
   "execution_count": 467,
   "id": "a03c44a8",
   "metadata": {},
   "outputs": [
    {
     "name": "stdout",
     "output_type": "stream",
     "text": [
      "<__main__.Person object at 0x0000023C02376C80>\n"
     ]
    }
   ],
   "source": [
    "# the _str_() function\n",
    "# example without str fun\n",
    "class Person:\n",
    "    def __init__(self,name,age):\n",
    "        self.name=name\n",
    "        self.age=age\n",
    "        \n",
    "p1=Person(\"MIke\",45)\n",
    "print(p1)"
   ]
  },
  {
   "cell_type": "code",
   "execution_count": 468,
   "id": "5041be45",
   "metadata": {},
   "outputs": [
    {
     "name": "stdout",
     "output_type": "stream",
     "text": [
      "John(36)\n"
     ]
    }
   ],
   "source": [
    "class Person:\n",
    "    def __init__(self,name,age):\n",
    "        self.name=name\n",
    "        self.age=age\n",
    "        \n",
    "    def __str__(self):\n",
    "        return f\"{self.name}({self.age})\"\n",
    "    \n",
    "p1=Person(\"John\",36)\n",
    "print(p1)"
   ]
  },
  {
   "cell_type": "code",
   "execution_count": null,
   "id": "5113115f",
   "metadata": {},
   "outputs": [],
   "source": [
    "# Object Methods:\n",
    "- object can also contain methods.methods in object are functions that belong to the object.\n",
    "- Let us create a method in the person class"
   ]
  },
  {
   "cell_type": "code",
   "execution_count": 469,
   "id": "3eb33088",
   "metadata": {},
   "outputs": [
    {
     "name": "stdout",
     "output_type": "stream",
     "text": [
      "Hello my name is John\n"
     ]
    }
   ],
   "source": [
    "#Insert a function that prints a greeting , and execute it on the p1 object.\n",
    "class Person:\n",
    "    def __init__(self,name,age):\n",
    "        self.name=name\n",
    "        self.age=age\n",
    "        \n",
    "    def myfunc(self):\n",
    "        print(\"Hello my name is \"+ self.name)\n",
    "        \n",
    "p1=Person(\"John\",36)\n",
    "p1.myfunc()"
   ]
  },
  {
   "cell_type": "markdown",
   "id": "6238f79b",
   "metadata": {},
   "source": [
    "# Python inheritance\n",
    "- Inheritance allows us to define a class that inherits all the methoda and properties from another class.\n",
    "- parent class is the class being inherited from , also called base class.\n",
    "- child class is the class that inherits from another class , also called drived class."
   ]
  },
  {
   "cell_type": "code",
   "execution_count": null,
   "id": "abf959c9",
   "metadata": {},
   "outputs": [],
   "source": [
    "# Create a parent class\n",
    "# create a class named person, with firstname and lastname properties, and a printname method.\n",
    "\n"
   ]
  },
  {
   "cell_type": "code",
   "execution_count": 473,
   "id": "2f3eb503",
   "metadata": {},
   "outputs": [
    {
     "name": "stdout",
     "output_type": "stream",
     "text": [
      "John Doe\n"
     ]
    }
   ],
   "source": [
    "class Person:\n",
    "    def __init__(self,fname,lname):\n",
    "        self.firstname=fname\n",
    "        self.lastname=lname\n",
    "        \n",
    "    def printname(self):\n",
    "        print(self.firstname,self.lastname)\n",
    "        \n",
    "x=Person(\"John\",\"Doe\")\n",
    "x.printname()"
   ]
  },
  {
   "cell_type": "code",
   "execution_count": 474,
   "id": "1ced1216",
   "metadata": {},
   "outputs": [],
   "source": [
    "# Create a child class\n",
    "class Student(Person):\n",
    "    pass"
   ]
  },
  {
   "cell_type": "code",
   "execution_count": 475,
   "id": "59514827",
   "metadata": {},
   "outputs": [
    {
     "name": "stdout",
     "output_type": "stream",
     "text": [
      "Mike Olsen\n"
     ]
    }
   ],
   "source": [
    "x=Student(\"Mike\",\"Olsen\")\n",
    "x.printname()"
   ]
  },
  {
   "cell_type": "code",
   "execution_count": null,
   "id": "a0b0e910",
   "metadata": {},
   "outputs": [],
   "source": [
    "# Python iterators\n",
    "- An iterator is an object that contains a countable number of vlaues\n",
    "- an iterator is an object that can be iterated upon,meaning that you can traverse through all the values."
   ]
  },
  {
   "cell_type": "code",
   "execution_count": 478,
   "id": "35f411ce",
   "metadata": {},
   "outputs": [
    {
     "name": "stdout",
     "output_type": "stream",
     "text": [
      "pen\n",
      "pencil\n",
      "book\n"
     ]
    }
   ],
   "source": [
    "mytuple=('pen',\"pencil\",\"book\")\n",
    "myit=iter(mytuple)\n",
    "\n",
    "print(next(myit))\n",
    "print(next(myit))\n",
    "print(next(myit))"
   ]
  },
  {
   "cell_type": "code",
   "execution_count": 479,
   "id": "bd0fabb7",
   "metadata": {},
   "outputs": [
    {
     "name": "stdout",
     "output_type": "stream",
     "text": [
      "b\n",
      "a\n",
      "n\n",
      "a\n",
      "n\n",
      "a\n"
     ]
    }
   ],
   "source": [
    "mystr=\"banana\"\n",
    "myit=iter(mystr)\n",
    "\n",
    "print(next(myit))\n",
    "print(next(myit))\n",
    "print(next(myit))\n",
    "print(next(myit))\n",
    "print(next(myit))\n",
    "print(next(myit))"
   ]
  },
  {
   "cell_type": "code",
   "execution_count": 481,
   "id": "1fdab46b",
   "metadata": {},
   "outputs": [
    {
     "name": "stdout",
     "output_type": "stream",
     "text": [
      "apple\n",
      "google\n",
      "meta\n"
     ]
    }
   ],
   "source": [
    "# Looping through an iteratoe\n",
    "mytuple=(\"apple\",\"google\",\"meta\")\n",
    "for x in mytuple:\n",
    "    print(x)"
   ]
  },
  {
   "cell_type": "code",
   "execution_count": 482,
   "id": "1d10a6a0",
   "metadata": {},
   "outputs": [
    {
     "name": "stdout",
     "output_type": "stream",
     "text": [
      "m\n",
      "i\n",
      "c\n",
      "r\n",
      "o\n",
      "s\n",
      "o\n",
      "f\n",
      "t\n"
     ]
    }
   ],
   "source": [
    "mystr=\"microsoft\"\n",
    "for x in mystr:\n",
    "    print(x)"
   ]
  },
  {
   "cell_type": "code",
   "execution_count": 484,
   "id": "4234504a",
   "metadata": {},
   "outputs": [
    {
     "name": "stdout",
     "output_type": "stream",
     "text": [
      "1\n",
      "2\n",
      "3\n",
      "4\n"
     ]
    }
   ],
   "source": [
    "# Create an iterartor\n",
    "class MyNumbers:\n",
    "    def __iter__(self):\n",
    "        self.a=1\n",
    "        return self\n",
    "    def __next__(self):\n",
    "        x=self.a\n",
    "        self.a +=1\n",
    "        return x\n",
    "    \n",
    "myclass=MyNumbers()\n",
    "myiter=iter(myclass)\n",
    "\n",
    "\n",
    "print(next(myiter))\n",
    "print(next(myiter))\n",
    "print(next(myiter))\n",
    "print(next(myiter))"
   ]
  },
  {
   "cell_type": "code",
   "execution_count": 488,
   "id": "ae088b15",
   "metadata": {},
   "outputs": [
    {
     "name": "stdout",
     "output_type": "stream",
     "text": [
      "1\n",
      "2\n",
      "3\n",
      "4\n",
      "5\n",
      "6\n",
      "7\n",
      "8\n",
      "9\n",
      "10\n",
      "11\n",
      "12\n",
      "13\n",
      "14\n",
      "15\n",
      "16\n",
      "17\n",
      "18\n",
      "19\n",
      "20\n"
     ]
    }
   ],
   "source": [
    "# stop iteration\n",
    "# stop after 20 iterations\n",
    "class MyNumbers:\n",
    "  def __iter__(self):\n",
    "    self.a = 1\n",
    "    return self\n",
    "\n",
    "  def __next__(self):\n",
    "    if self.a <= 20:\n",
    "      x = self.a\n",
    "      self.a += 1\n",
    "      return x\n",
    "    else:\n",
    "      raise StopIteration\n",
    "\n",
    "myclass = MyNumbers()\n",
    "myiter = iter(myclass)\n",
    "\n",
    "for x in myiter:\n",
    " print(x)"
   ]
  },
  {
   "cell_type": "code",
   "execution_count": 489,
   "id": "46d5ee56",
   "metadata": {},
   "outputs": [
    {
     "name": "stdout",
     "output_type": "stream",
     "text": [
      "300\n"
     ]
    }
   ],
   "source": [
    "# Local scope\n",
    "def myfunc():\n",
    "    x=300\n",
    "    print(x)\n",
    "    \n",
    "myfunc()"
   ]
  },
  {
   "cell_type": "code",
   "execution_count": 490,
   "id": "9063a5be",
   "metadata": {},
   "outputs": [
    {
     "name": "stdout",
     "output_type": "stream",
     "text": [
      "400\n"
     ]
    }
   ],
   "source": [
    "# function inside function\n",
    "def myfunc():\n",
    "    x=400\n",
    "    def myinnerfunc():\n",
    "        print(x)\n",
    "    myinnerfunc()\n",
    "    \n",
    "myfunc()"
   ]
  },
  {
   "cell_type": "code",
   "execution_count": 491,
   "id": "c98d03fe",
   "metadata": {},
   "outputs": [],
   "source": [
    "# Python module\n",
    "\n",
    "def greeting(name):\n",
    "    print(\"Hello,\"+name)"
   ]
  },
  {
   "cell_type": "code",
   "execution_count": 493,
   "id": "1f700854",
   "metadata": {},
   "outputs": [
    {
     "name": "stdout",
     "output_type": "stream",
     "text": [
      "2022-11-25 12:41:01.035525\n"
     ]
    }
   ],
   "source": [
    "# Python dates\n",
    "\n",
    "import datetime\n",
    "\n",
    "x=datetime.datetime.now()\n",
    "print(x)"
   ]
  },
  {
   "cell_type": "code",
   "execution_count": 494,
   "id": "88d2cd96",
   "metadata": {},
   "outputs": [
    {
     "name": "stdout",
     "output_type": "stream",
     "text": [
      "2022\n",
      "Friday\n"
     ]
    }
   ],
   "source": [
    "import datetime\n",
    "x=datetime.datetime.now()\n",
    "\n",
    "print(x.year)\n",
    "print(x.strftime(\"%A\"))"
   ]
  },
  {
   "cell_type": "code",
   "execution_count": 495,
   "id": "04e9832c",
   "metadata": {},
   "outputs": [
    {
     "name": "stdout",
     "output_type": "stream",
     "text": [
      "2022-11-25 00:00:00\n"
     ]
    }
   ],
   "source": [
    "# Create a date object\n",
    "\n",
    "import datetime\n",
    "x=datetime.datetime(2022,11,25)\n",
    "print(x)"
   ]
  },
  {
   "cell_type": "code",
   "execution_count": 496,
   "id": "0dd2c3a9",
   "metadata": {},
   "outputs": [
    {
     "name": "stdout",
     "output_type": "stream",
     "text": [
      "November\n"
     ]
    }
   ],
   "source": [
    "# The strftime() method\n",
    "import datetime\n",
    "\n",
    "x=datetime.datetime(2022,11,25)\n",
    "print(x.strftime(\"%B\"))"
   ]
  },
  {
   "cell_type": "code",
   "execution_count": 497,
   "id": "878d270b",
   "metadata": {},
   "outputs": [
    {
     "name": "stdout",
     "output_type": "stream",
     "text": [
      "5\n",
      "25\n"
     ]
    }
   ],
   "source": [
    "# Python math\n",
    "x=min(5,10,25)\n",
    "y=max(5,10,25)\n",
    "\n",
    "print(x)\n",
    "print(y)"
   ]
  },
  {
   "cell_type": "code",
   "execution_count": 498,
   "id": "21ec2d74",
   "metadata": {},
   "outputs": [
    {
     "name": "stdout",
     "output_type": "stream",
     "text": [
      "7.25\n"
     ]
    }
   ],
   "source": [
    "x=abs(-7.25)\n",
    "print(x)"
   ]
  },
  {
   "cell_type": "code",
   "execution_count": 499,
   "id": "7214d84f",
   "metadata": {},
   "outputs": [
    {
     "name": "stdout",
     "output_type": "stream",
     "text": [
      "64\n"
     ]
    }
   ],
   "source": [
    "x=pow(4,3)\n",
    "print(x)"
   ]
  },
  {
   "cell_type": "code",
   "execution_count": 500,
   "id": "1ed9d63a",
   "metadata": {},
   "outputs": [
    {
     "name": "stdout",
     "output_type": "stream",
     "text": [
      "8.0\n"
     ]
    }
   ],
   "source": [
    "# MATH MODULE\n",
    "import math\n",
    "x=math.sqrt(64)\n",
    "print(x)"
   ]
  },
  {
   "cell_type": "code",
   "execution_count": 502,
   "id": "095d64e9",
   "metadata": {},
   "outputs": [
    {
     "name": "stdout",
     "output_type": "stream",
     "text": [
      "9.9498743710662\n"
     ]
    }
   ],
   "source": [
    "x=math.sqrt(99)\n",
    "print(x)"
   ]
  },
  {
   "cell_type": "code",
   "execution_count": 503,
   "id": "b72047ae",
   "metadata": {},
   "outputs": [
    {
     "name": "stdout",
     "output_type": "stream",
     "text": [
      "2\n",
      "1\n"
     ]
    }
   ],
   "source": [
    "import math\n",
    "\n",
    "x=math.ceil(1.4)\n",
    "y=math.floor(1.4)\n",
    "\n",
    "print(x)\n",
    "print(y)"
   ]
  },
  {
   "cell_type": "code",
   "execution_count": 504,
   "id": "e471113f",
   "metadata": {},
   "outputs": [
    {
     "name": "stdout",
     "output_type": "stream",
     "text": [
      "3.141592653589793\n"
     ]
    }
   ],
   "source": [
    "import math\n",
    "\n",
    "x=math.pi\n",
    "print(x)"
   ]
  },
  {
   "cell_type": "code",
   "execution_count": 506,
   "id": "42e0700d",
   "metadata": {},
   "outputs": [
    {
     "data": {
      "text/plain": [
       "{'name': 'john', 'age': 20, 'city': 'New york'}"
      ]
     },
     "execution_count": 506,
     "metadata": {},
     "output_type": "execute_result"
    }
   ],
   "source": [
    "# json in python\n",
    "\n",
    "import json\n",
    "\n",
    "x='{\"name\":\"john\",\"age\":20,\"city\":\"New york\"}'\n",
    "y=json.loads(x)\n",
    "y"
   ]
  },
  {
   "cell_type": "code",
   "execution_count": 507,
   "id": "a9403c6b",
   "metadata": {},
   "outputs": [
    {
     "name": "stdout",
     "output_type": "stream",
     "text": [
      "20\n"
     ]
    }
   ],
   "source": [
    "print(y['age'])"
   ]
  },
  {
   "cell_type": "code",
   "execution_count": 508,
   "id": "c26f3310",
   "metadata": {},
   "outputs": [
    {
     "name": "stdout",
     "output_type": "stream",
     "text": [
      "{\"name\": \"john\", \"age\": 52, \"city\": \"New york\"}\n"
     ]
    }
   ],
   "source": [
    "# Convert from python to json\n",
    "x={\n",
    "    \"name\":\"john\",\n",
    "    \"age\":52,\n",
    "    \"city\":\"New york\"\n",
    "}\n",
    "\n",
    "y=json.dumps(x)\n",
    "print(y)"
   ]
  },
  {
   "cell_type": "code",
   "execution_count": 509,
   "id": "bfd94b1e",
   "metadata": {},
   "outputs": [
    {
     "data": {
      "text/plain": [
       "{'name': 'john', 'age': 52, 'city': 'New york'}"
      ]
     },
     "execution_count": 509,
     "metadata": {},
     "output_type": "execute_result"
    }
   ],
   "source": [
    "x"
   ]
  },
  {
   "cell_type": "code",
   "execution_count": 511,
   "id": "f973c552",
   "metadata": {},
   "outputs": [
    {
     "name": "stdout",
     "output_type": "stream",
     "text": [
      "{\"name\": \"Mike\", \"age\": 26, \"married\": true, \"divorced\": false, \"children\": [\"Ann\", \"Billy\"], \"pets\": null, \"cars\": [{\"model\": \"BMW 230\", \"MPG\": 27.6}, {\"model\": \"ford edge\", \"mpg\": 24.1}]}\n"
     ]
    }
   ],
   "source": [
    "import json\n",
    "\n",
    "x={\n",
    "    \"name\":\"Mike\",\n",
    "    \"age\":26,\n",
    "    \"married\":True,\n",
    "    \"divorced\":False,\n",
    "    \"children\":(\"Ann\",\"Billy\"),\n",
    "    \"pets\":None,\n",
    "    \"cars\":[\n",
    "        {\"model\":\"BMW 230\",\"MPG\":27.6},\n",
    "        {\"model\":\"ford edge\",\"mpg\":24.1}\n",
    "    ]\n",
    "}\n",
    "\n",
    "print(json.dumps(x))"
   ]
  },
  {
   "cell_type": "code",
   "execution_count": 514,
   "id": "e9704325",
   "metadata": {},
   "outputs": [
    {
     "data": {
      "text/plain": [
       "'{\\n    \"name\": \"Mike\",\\n    \"age\": 26,\\n    \"married\": true,\\n    \"divorced\": false,\\n    \"children\": [\\n        \"Ann\",\\n        \"Billy\"\\n    ],\\n    \"pets\": null,\\n    \"cars\": [\\n        {\\n            \"model\": \"BMW 230\",\\n            \"MPG\": 27.6\\n        },\\n        {\\n            \"model\": \"ford edge\",\\n            \"mpg\": 24.1\\n        }\\n    ]\\n}'"
      ]
     },
     "execution_count": 514,
     "metadata": {},
     "output_type": "execute_result"
    }
   ],
   "source": [
    "# format the result\n",
    "json.dumps(x,indent=4)\n"
   ]
  },
  {
   "cell_type": "code",
   "execution_count": 515,
   "id": "e9e70688",
   "metadata": {},
   "outputs": [
    {
     "data": {
      "text/plain": [
       "'{\\n    \"name\"=\"Mike\".\\n    \"age\"=26.\\n    \"married\"=true.\\n    \"divorced\"=false.\\n    \"children\"=[\\n        \"Ann\".\\n        \"Billy\"\\n    ].\\n    \"pets\"=null.\\n    \"cars\"=[\\n        {\\n            \"model\"=\"BMW 230\".\\n            \"MPG\"=27.6\\n        }.\\n        {\\n            \"model\"=\"ford edge\".\\n            \"mpg\"=24.1\\n        }\\n    ]\\n}'"
      ]
     },
     "execution_count": 515,
     "metadata": {},
     "output_type": "execute_result"
    }
   ],
   "source": [
    "json.dumps(x,indent=4,separators=(\".\",\"=\"))"
   ]
  },
  {
   "cell_type": "code",
   "execution_count": 516,
   "id": "0f68bb80",
   "metadata": {},
   "outputs": [
    {
     "data": {
      "text/plain": [
       "'{\\n    \"age\": 26,\\n    \"cars\": [\\n        {\\n            \"MPG\": 27.6,\\n            \"model\": \"BMW 230\"\\n        },\\n        {\\n            \"model\": \"ford edge\",\\n            \"mpg\": 24.1\\n        }\\n    ],\\n    \"children\": [\\n        \"Ann\",\\n        \"Billy\"\\n    ],\\n    \"divorced\": false,\\n    \"married\": true,\\n    \"name\": \"Mike\",\\n    \"pets\": null\\n}'"
      ]
     },
     "execution_count": 516,
     "metadata": {},
     "output_type": "execute_result"
    }
   ],
   "source": [
    "# order the result\n",
    "json.dumps(x,indent=4, sort_keys=True)"
   ]
  },
  {
   "cell_type": "code",
   "execution_count": 520,
   "id": "762c1c06",
   "metadata": {},
   "outputs": [],
   "source": [
    "# RegEx in python\n",
    "\n",
    "import re\n",
    "txt=\"The rain in Spain\"\n",
    "x=re.search(\"^ The.* Spain$\",txt)\n"
   ]
  },
  {
   "cell_type": "code",
   "execution_count": 523,
   "id": "b5847c8a",
   "metadata": {},
   "outputs": [
    {
     "name": "stdout",
     "output_type": "stream",
     "text": [
      "None\n"
     ]
    }
   ],
   "source": [
    "print(x)"
   ]
  },
  {
   "cell_type": "code",
   "execution_count": 524,
   "id": "1179f0e6",
   "metadata": {},
   "outputs": [
    {
     "name": "stdout",
     "output_type": "stream",
     "text": [
      "['ai', 'ai']\n"
     ]
    }
   ],
   "source": [
    "# the findall() function\n",
    "\n",
    "import re\n",
    "\n",
    "txt=\" The rain in Spain\"\n",
    "x=re.findall(\"ai\",txt)\n",
    "print(x)"
   ]
  },
  {
   "cell_type": "code",
   "execution_count": 526,
   "id": "92b2404b",
   "metadata": {},
   "outputs": [
    {
     "name": "stdout",
     "output_type": "stream",
     "text": [
      "[]\n"
     ]
    }
   ],
   "source": [
    "import re\n",
    "\n",
    "txt=\"The rain in Spain\"\n",
    "x=re.findall(\"Portugal\",txt)\n",
    "print(x)\n",
    "# Return an emputy list if no match was found."
   ]
  },
  {
   "cell_type": "code",
   "execution_count": 527,
   "id": "6c2ecc7e",
   "metadata": {},
   "outputs": [
    {
     "name": "stdout",
     "output_type": "stream",
     "text": [
      "Collecting camelcase\n",
      "  Using cached camelcase-0.2-py3-none-any.whl\n",
      "Installing collected packages: camelcase\n",
      "Successfully installed camelcase-0.2\n"
     ]
    }
   ],
   "source": [
    "!pip install camelcase"
   ]
  },
  {
   "cell_type": "code",
   "execution_count": 528,
   "id": "d15998a8",
   "metadata": {},
   "outputs": [
    {
     "name": "stdout",
     "output_type": "stream",
     "text": [
      "Hello World\n"
     ]
    }
   ],
   "source": [
    "import camelcase\n",
    "c=camelcase.CamelCase()\n",
    "txt=\"hello world\"\n",
    "print(c.hump(txt))"
   ]
  },
  {
   "cell_type": "code",
   "execution_count": 530,
   "id": "efe5c3e0",
   "metadata": {},
   "outputs": [
    {
     "name": "stdout",
     "output_type": "stream",
     "text": [
      "[]\n"
     ]
    }
   ],
   "source": [
    "try:\n",
    "    print(x)\n",
    "except:\n",
    "    print(\"An exception occured\")"
   ]
  },
  {
   "cell_type": "code",
   "execution_count": 534,
   "id": "8aca5b5e",
   "metadata": {},
   "outputs": [
    {
     "name": "stdout",
     "output_type": "stream",
     "text": [
      "[]\n"
     ]
    }
   ],
   "source": [
    "# Many exception\n",
    "\n",
    "try:\n",
    "    print(x)\n",
    "except NameError:\n",
    "    print(\"Variable x is not defined\")\n",
    "except:\n",
    "    print(\"Something else went wrong\")"
   ]
  },
  {
   "cell_type": "code",
   "execution_count": 535,
   "id": "cda28675",
   "metadata": {},
   "outputs": [
    {
     "name": "stdout",
     "output_type": "stream",
     "text": [
      "Enter username:izhar sami\n",
      "Username is:izhar sami\n"
     ]
    }
   ],
   "source": [
    "# Python user input\n",
    "\n",
    "username=input('Enter username:')\n",
    "print(\"Username is:\" + username)"
   ]
  },
  {
   "cell_type": "code",
   "execution_count": 536,
   "id": "5165aae6",
   "metadata": {},
   "outputs": [
    {
     "name": "stdout",
     "output_type": "stream",
     "text": [
      "Enter emp_id2586\n",
      "emp_id is:2586\n"
     ]
    }
   ],
   "source": [
    "emp_id=input(\"Enter emp_id\")\n",
    "print(\"emp_id is:\"+ emp_id)"
   ]
  },
  {
   "cell_type": "code",
   "execution_count": 556,
   "id": "3d3a7e9b",
   "metadata": {},
   "outputs": [
    {
     "name": "stdout",
     "output_type": "stream",
     "text": [
      "Hi,\n",
      "My name is izhar sami\n",
      "I am working as datascientist.\n"
     ]
    }
   ],
   "source": [
    "# open file\n",
    "f=open(\"frequentPatterns.txt\",\"r\")\n",
    "print(f.read())"
   ]
  },
  {
   "cell_type": "code",
   "execution_count": 559,
   "id": "8173ec96",
   "metadata": {},
   "outputs": [],
   "source": [
    "for x in f:\n",
    "    print(x)"
   ]
  },
  {
   "cell_type": "code",
   "execution_count": 560,
   "id": "810c7575",
   "metadata": {},
   "outputs": [],
   "source": [
    "f.close()"
   ]
  },
  {
   "cell_type": "code",
   "execution_count": 562,
   "id": "6f4817bf",
   "metadata": {},
   "outputs": [
    {
     "ename": "ValueError",
     "evalue": "I/O operation on closed file.",
     "output_type": "error",
     "traceback": [
      "\u001b[1;31m---------------------------------------------------------------------------\u001b[0m",
      "\u001b[1;31mValueError\u001b[0m                                Traceback (most recent call last)",
      "Input \u001b[1;32mIn [562]\u001b[0m, in \u001b[0;36m<cell line: 1>\u001b[1;34m()\u001b[0m\n\u001b[1;32m----> 1\u001b[0m \u001b[38;5;28mprint\u001b[39m(\u001b[43mf\u001b[49m\u001b[38;5;241;43m.\u001b[39;49m\u001b[43mread\u001b[49m\u001b[43m(\u001b[49m\u001b[43m)\u001b[49m)\n",
      "\u001b[1;31mValueError\u001b[0m: I/O operation on closed file."
     ]
    }
   ],
   "source": [
    "print(f.read())"
   ]
  },
  {
   "cell_type": "code",
   "execution_count": 563,
   "id": "59caae75",
   "metadata": {},
   "outputs": [
    {
     "name": "stdout",
     "output_type": "stream",
     "text": [
      "Hi,\n",
      "My name is izhar sami\n",
      "I am working as datascientist.\n"
     ]
    }
   ],
   "source": [
    "# open file\n",
    "f=open(\"frequentPatterns.txt\",\"r\")\n",
    "print(f.read())"
   ]
  },
  {
   "cell_type": "code",
   "execution_count": 565,
   "id": "9070b23f",
   "metadata": {},
   "outputs": [],
   "source": [
    "# write to existing file\n",
    "f=open(\"frequentPatterns.txt\",\"a\")\n",
    "f.write(\"Python,Sql, ml,dl,nlp are important to learn for datascientist\")\n",
    "f.close()"
   ]
  },
  {
   "cell_type": "code",
   "execution_count": 566,
   "id": "34c7341f",
   "metadata": {},
   "outputs": [
    {
     "name": "stdout",
     "output_type": "stream",
     "text": [
      "Hi,\n",
      "My name is izhar sami\n",
      "I am working as datascientist.Python,Sql, ml,dl,nlp are important to learn for datascientist\n"
     ]
    }
   ],
   "source": [
    "f=open(\"frequentPatterns.txt\",\"r\")\n",
    "print(f.read())"
   ]
  },
  {
   "cell_type": "code",
   "execution_count": 2,
   "id": "87c0fe2b",
   "metadata": {},
   "outputs": [
    {
     "name": "stdout",
     "output_type": "stream",
     "text": [
      "Collecting mysql-connector\n",
      "  Using cached mysql-connector-2.2.9.tar.gz (11.9 MB)\n",
      "  Preparing metadata (setup.py): started\n",
      "  Preparing metadata (setup.py): finished with status 'done'\n",
      "Building wheels for collected packages: mysql-connector\n",
      "  Building wheel for mysql-connector (setup.py): started\n",
      "  Building wheel for mysql-connector (setup.py): finished with status 'done'\n",
      "  Created wheel for mysql-connector: filename=mysql_connector-2.2.9-cp310-cp310-win_amd64.whl size=247947 sha256=776666fc4cc30a830750bd985e87224d10ec9f2b6d315b53e1cba99f2c8dbb53\n",
      "  Stored in directory: c:\\users\\ab-dw-06\\appdata\\local\\pip\\cache\\wheels\\76\\48\\9b\\da67ff1a18fe8e9d428f9b1a177716d4a7d363d2bbe83bf6cf\n",
      "Successfully built mysql-connector\n",
      "Installing collected packages: mysql-connector\n",
      "Successfully installed mysql-connector-2.2.9\n"
     ]
    }
   ],
   "source": [
    "! pip install mysql-connector"
   ]
  },
  {
   "cell_type": "code",
   "execution_count": 4,
   "id": "682ddbb9",
   "metadata": {},
   "outputs": [],
   "source": [
    "# Create connection"
   ]
  },
  {
   "cell_type": "code",
   "execution_count": 3,
   "id": "d02f3f35",
   "metadata": {},
   "outputs": [],
   "source": [
    "import mysql.connector"
   ]
  },
  {
   "cell_type": "raw",
   "id": "4ff045ce",
   "metadata": {},
   "source": [
    "import socket\n",
    "socket.getaddrinfo('119.228.86.158', 3306)"
   ]
  },
  {
   "cell_type": "raw",
   "id": "f18f4839",
   "metadata": {},
   "source": [
    "\n",
    "mydb = mysql.connector.connect(\n",
    "  host=\"localhost\",\n",
    "  user=\"Izhar\",\n",
    "  password=\"IzharSami@123\",\n",
    "    database= \"Izhar\"\n",
    ")\n",
    "\n",
    "print(mydb)"
   ]
  },
  {
   "cell_type": "code",
   "execution_count": null,
   "id": "0c791911",
   "metadata": {},
   "outputs": [],
   "source": []
  },
  {
   "cell_type": "code",
   "execution_count": null,
   "id": "434b6bca",
   "metadata": {},
   "outputs": [],
   "source": []
  },
  {
   "cell_type": "code",
   "execution_count": null,
   "id": "daae6a12",
   "metadata": {},
   "outputs": [],
   "source": []
  },
  {
   "cell_type": "code",
   "execution_count": null,
   "id": "b0aa1cf8",
   "metadata": {},
   "outputs": [],
   "source": []
  },
  {
   "cell_type": "code",
   "execution_count": null,
   "id": "4a389248",
   "metadata": {},
   "outputs": [],
   "source": []
  },
  {
   "cell_type": "code",
   "execution_count": null,
   "id": "fbc01d24",
   "metadata": {},
   "outputs": [],
   "source": []
  },
  {
   "cell_type": "code",
   "execution_count": null,
   "id": "b0b27620",
   "metadata": {},
   "outputs": [],
   "source": []
  },
  {
   "cell_type": "code",
   "execution_count": null,
   "id": "e5ed231a",
   "metadata": {},
   "outputs": [],
   "source": []
  },
  {
   "cell_type": "code",
   "execution_count": null,
   "id": "6323807e",
   "metadata": {},
   "outputs": [],
   "source": []
  },
  {
   "cell_type": "code",
   "execution_count": null,
   "id": "885a8aa3",
   "metadata": {},
   "outputs": [],
   "source": []
  },
  {
   "cell_type": "code",
   "execution_count": null,
   "id": "4ab570eb",
   "metadata": {},
   "outputs": [],
   "source": []
  }
 ],
 "metadata": {
  "kernelspec": {
   "display_name": "Python 3 (ipykernel)",
   "language": "python",
   "name": "python3"
  },
  "language_info": {
   "codemirror_mode": {
    "name": "ipython",
    "version": 3
   },
   "file_extension": ".py",
   "mimetype": "text/x-python",
   "name": "python",
   "nbconvert_exporter": "python",
   "pygments_lexer": "ipython3",
   "version": "3.10.4"
  }
 },
 "nbformat": 4,
 "nbformat_minor": 5
}
